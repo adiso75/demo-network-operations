{
 "cells": [
  {
   "cell_type": "markdown",
   "metadata": {},
   "source": [
    "# Network Operations\n",
    "\n",
    "In this notebook we will assemble our project.  We will explore different functions on our dataset and compile them into a workflow ready for production.\n",
    "\n",
    "The functions we will use will be a mix of `hub` based functions from our [MLRun Functions](http://github.com/mlrun/functions) repo, local and git based notebooks.\n",
    "\n",
    "> The notebook should be run after generating the data in the [Generator Notebook](generator.ipynb)\n"
   ]
  },
  {
   "cell_type": "markdown",
   "metadata": {},
   "source": [
    "we will start by setting up our environment, Loading MLRun and some utilities we will need"
   ]
  },
  {
   "cell_type": "code",
   "execution_count": 1,
   "metadata": {},
   "outputs": [],
   "source": [
    "# Utils\n",
    "import os\n",
    "import json\n",
    "import urllib\n",
    "import numpy as np\n",
    "\n",
    "# MLRun imports\n",
    "from mlrun import mlconf\n",
    "\n",
    "# Setup API Endpoint\n",
    "mlconf.dbpath = 'http://mlrun-api:8080'"
   ]
  },
  {
   "cell_type": "code",
   "execution_count": 2,
   "metadata": {},
   "outputs": [],
   "source": [
    "# Set Hub URL address if using a local version\n",
    "# mlconf.hub_url = '/User/functions/{name}/function.yaml'"
   ]
  },
  {
   "cell_type": "markdown",
   "metadata": {},
   "source": [
    "Now lets define our current project "
   ]
  },
  {
   "cell_type": "markdown",
   "metadata": {},
   "source": [
    "## Create a project from a git repository"
   ]
  },
  {
   "cell_type": "code",
   "execution_count": 3,
   "metadata": {},
   "outputs": [],
   "source": [
    "from mlrun import new_project\n",
    "\n",
    "# update the dir and repo to reflect real locations \n",
    "# the remote git repo must be initialized in GitHub\n",
    "project_dir = os.path.abspath('./')\n",
    "remote_git = 'https://github.com/mlrun/demo-network-operations.git'\n",
    "\n",
    "# Create the project\n",
    "newproj = new_project('network-operations', project_dir, init_git=True)\n",
    "\n",
    "# We can update our project directory to the latest status by running\n",
    "# newproj.pull()"
   ]
  },
  {
   "cell_type": "markdown",
   "metadata": {},
   "source": [
    "Now that we have our project directory, lets forword our artifacts there to keep track of them"
   ]
  },
  {
   "cell_type": "code",
   "execution_count": 4,
   "metadata": {},
   "outputs": [],
   "source": [
    "# Define an artifact path to keep track of where our artifacts are going\n",
    "ARTIFACT_PATH =  os.path.join(os.path.abspath(newproj.context), 'artifacts')\n",
    "mlconf.artifact_path = ARTIFACT_PATH"
   ]
  },
  {
   "cell_type": "markdown",
   "metadata": {},
   "source": [
    "## Create and run functions"
   ]
  },
  {
   "cell_type": "markdown",
   "metadata": {},
   "source": [
    "As we receive a new dataset, the first thing we would like to do is to explore it a bit, we can do that using our `describe` function in `mlrun/functions`"
   ]
  },
  {
   "cell_type": "code",
   "execution_count": 5,
   "metadata": {},
   "outputs": [],
   "source": [
    "from mlrun import mount_v3io, new_model_server"
   ]
  },
  {
   "cell_type": "code",
   "execution_count": 6,
   "metadata": {},
   "outputs": [
    {
     "data": {
      "text/plain": [
       "<mlrun.runtimes.function.RemoteRuntime at 0x7fe3b362acf8>"
      ]
     },
     "execution_count": 6,
     "metadata": {},
     "output_type": "execute_result"
    }
   ],
   "source": [
    "# Import the functions\n",
    "# Functions From hub\n",
    "newproj.set_function(func='hub://aggregate', name='aggregate')\n",
    "newproj.set_function(func='hub://describe', name='describe')\n",
    "newproj.set_function(func='hub://feature_selection', name=\"feature_selection\")\n",
    "newproj.set_function(func='hub://sklearn_classifier', name='train')\n",
    "newproj.set_function(func='hub://test_classifier', name='test')\n",
    "newproj.set_function(func='hub://model_server_tester', name=\"model_server-tester\")\n",
    "newproj.set_function(func='hub://concept_drift', name=\"concept_drift\")\n",
    "newproj.set_function(func='hub://stream_to_parquet', name=\"s2p\")\n",
    "newproj.set_function(func='hub://virtual_drift', name=\"virtual_drift\")\n",
    "\n",
    "# Streaming\n",
    "src_path = os.path.abspath('src/')\n",
    "newproj.set_function(func=os.path.join(src_path, 'generator.yaml'), name='generator')\n",
    "newproj.set_function(func=os.path.join(src_path, 'preprocessor.yaml'), name='preprocessor')\n",
    "newproj.set_function(func=os.path.join(src_path, 'inference-server.yaml'), name=\"serving\")\n",
    "newproj.set_function(func=os.path.join(src_path, 'labeled_stream_creator.yaml'), name=\"labeled_stream\")"
   ]
  },
  {
   "cell_type": "markdown",
   "metadata": {},
   "source": [
    "## Generate the dataset\n",
    "If needed go to [Generator](./generator.ipynb) and run the local workflow to generate the metrics dataset to `data/metrics`"
   ]
  },
  {
   "cell_type": "markdown",
   "metadata": {},
   "source": [
    "## Run the functions locally to develop the workflow"
   ]
  },
  {
   "cell_type": "markdown",
   "metadata": {},
   "source": [
    "now we can **Run** the function locally on our sample data, we would like to get some details on our `raw` data"
   ]
  },
  {
   "cell_type": "markdown",
   "metadata": {},
   "source": [
    "## Register raw data as project level artifact"
   ]
  },
  {
   "cell_type": "code",
   "execution_count": 7,
   "metadata": {},
   "outputs": [],
   "source": [
    "# Define base Dataset\n",
    "import random\n",
    "data_dir = os.path.join(os.path.abspath(newproj.context), 'data')\n",
    "dataset_filename = random.choice(list(filter(lambda x: x.endswith('parquet'), os.listdir(data_dir))))\n",
    "metrics_path = os.path.join(data_dir, dataset_filename)\n",
    "\n",
    "import pandas as pd\n",
    "# Drop alternate error columns\n",
    "label_column = 'is_error'\n",
    "raw = pd.read_parquet(metrics_path)\n",
    "raw = raw.drop([col for col in raw.columns if (col != label_column) & (col.endswith(label_column))], axis=1)\n",
    "\n",
    "# Add to the project as a Dataset Artifact\n",
    "from mlrun.artifacts import DatasetArtifact\n",
    "metrics_artifact = DatasetArtifact(key='metrics', df=raw, format='parquet', target_path=os.path.join(data_dir, 'metrics.pq'))\n",
    "# newproj.log_artifact(metrics_artifact)\n",
    "newproj.log_artifact('metrics', target_path='/User/demo-network-operations/data/metrics.pq')"
   ]
  },
  {
   "cell_type": "markdown",
   "metadata": {},
   "source": [
    "### Get statistics about the metrics data"
   ]
  },
  {
   "cell_type": "code",
   "execution_count": 8,
   "metadata": {},
   "outputs": [],
   "source": [
    "from mlrun import NewTask, mount_v3io"
   ]
  },
  {
   "cell_type": "code",
   "execution_count": 9,
   "metadata": {},
   "outputs": [],
   "source": [
    "describe_task = NewTask(\n",
    "    name=\"describe\", \n",
    "    handler=\"summarize\",  \n",
    "    params={\"key\": \"summary\", \n",
    "            \"label_column\": label_column, \n",
    "            'class_labels': ['0', '1'],\n",
    "            'plot_hist': True,\n",
    "            'plot_dest': 'plots-metrics'},\n",
    "    inputs={\"table\": '/User/demo-network-operations/data/metrics.pq'},\n",
    "    artifact_path=ARTIFACT_PATH)"
   ]
  },
  {
   "cell_type": "code",
   "execution_count": 10,
   "metadata": {},
   "outputs": [
    {
     "name": "stdout",
     "output_type": "stream",
     "text": [
      "[mlrun] 2020-07-01 08:31:26,632 starting run describe uid=7b52930d82c145a989ac9e82dbcabab8  -> http://mlrun-api:8080\n",
      "[mlrun] 2020-07-01 08:31:26,745 Job is running in the background, pod: describe-vgm4f\n",
      "[mlrun] 2020-07-01 08:31:37,381 run executed, status=completed\n",
      "/opt/conda/lib/python3.7/site-packages/seaborn/distributions.py:288: UserWarning: Data must have variance to compute a kernel density estimate.\n",
      "  warnings.warn(msg, UserWarning)\n",
      "/opt/conda/lib/python3.7/site-packages/seaborn/distributions.py:288: UserWarning: Data must have variance to compute a kernel density estimate.\n",
      "  warnings.warn(msg, UserWarning)\n",
      "/opt/conda/lib/python3.7/site-packages/seaborn/distributions.py:288: UserWarning: Data must have variance to compute a kernel density estimate.\n",
      "  warnings.warn(msg, UserWarning)\n",
      "/opt/conda/lib/python3.7/site-packages/seaborn/distributions.py:288: UserWarning: Data must have variance to compute a kernel density estimate.\n",
      "  warnings.warn(msg, UserWarning)\n",
      "final state: succeeded\n"
     ]
    },
    {
     "data": {
      "text/html": [
       "<style>\n",
       ".dictlist {\n",
       "  background-color: #b3edff;\n",
       "  text-align: center;\n",
       "  margin: 4px;\n",
       "  border-radius: 3px; padding: 0px 3px 1px 3px; display: inline-block;}\n",
       ".artifact {\n",
       "  cursor: pointer;\n",
       "  background-color: #ffe6cc;\n",
       "  text-align: left;\n",
       "  margin: 4px; border-radius: 3px; padding: 0px 3px 1px 3px; display: inline-block;\n",
       "}\n",
       "div.block.hidden {\n",
       "  display: none;\n",
       "}\n",
       ".clickable {\n",
       "  cursor: pointer;\n",
       "}\n",
       ".ellipsis {\n",
       "  display: inline-block;\n",
       "  max-width: 60px;\n",
       "  white-space: nowrap;\n",
       "  overflow: hidden;\n",
       "  text-overflow: ellipsis;\n",
       "}\n",
       ".master-wrapper {\n",
       "  display: flex;\n",
       "  flex-flow: row nowrap;\n",
       "  justify-content: flex-start;\n",
       "  align-items: stretch;\n",
       "}\n",
       ".master-tbl {\n",
       "  flex: 3\n",
       "}\n",
       ".master-wrapper > div {\n",
       "  margin: 4px;\n",
       "  padding: 10px;\n",
       "}\n",
       "iframe.fileview {\n",
       "  border: 0 none;\n",
       "  height: 100%;\n",
       "  width: 100%;\n",
       "  white-space: pre-wrap;\n",
       "}\n",
       ".pane-header-title {\n",
       "  width: 80%;\n",
       "  font-weight: 500;\n",
       "}\n",
       ".pane-header {\n",
       "  line-height: 1;\n",
       "  background-color: #ffe6cc;\n",
       "  padding: 3px;\n",
       "}\n",
       ".pane-header .close {\n",
       "  font-size: 20px;\n",
       "  font-weight: 700;\n",
       "  float: right;\n",
       "  margin-top: -5px;\n",
       "}\n",
       ".master-wrapper .right-pane {\n",
       "  border: 1px inset silver;\n",
       "  width: 40%;\n",
       "  min-height: 300px;\n",
       "  flex: 3\n",
       "  min-width: 500px;\n",
       "}\n",
       ".master-wrapper * {\n",
       "  box-sizing: border-box;\n",
       "}\n",
       "</style><script>\n",
       "function copyToClipboard(fld) {\n",
       "    if (document.queryCommandSupported && document.queryCommandSupported('copy')) {\n",
       "        var textarea = document.createElement('textarea');\n",
       "        textarea.textContent = fld.innerHTML;\n",
       "        textarea.style.position = 'fixed';\n",
       "        document.body.appendChild(textarea);\n",
       "        textarea.select();\n",
       "\n",
       "        try {\n",
       "            return document.execCommand('copy'); // Security exception may be thrown by some browsers.\n",
       "        } catch (ex) {\n",
       "\n",
       "        } finally {\n",
       "            document.body.removeChild(textarea);\n",
       "        }\n",
       "    }\n",
       "}\n",
       "function expandPanel(el) {\n",
       "  const panelName = \"#\" + el.getAttribute('paneName');\n",
       "  console.log(el.title);\n",
       "\n",
       "  document.querySelector(panelName + \"-title\").innerHTML = el.title\n",
       "  iframe = document.querySelector(panelName + \"-body\");\n",
       "\n",
       "  const tblcss = `<style> body { font-family: Arial, Helvetica, sans-serif;}\n",
       "    #csv { margin-bottom: 15px; }\n",
       "    #csv table { border-collapse: collapse;}\n",
       "    #csv table td { padding: 4px 8px; border: 1px solid silver;} </style>`;\n",
       "\n",
       "  function csvToHtmlTable(str) {\n",
       "    return '<div id=\"csv\"><table><tr><td>' +  str.replace(/[\\n\\r]+$/g, '').replace(/[\\n\\r]+/g, '</td></tr><tr><td>')\n",
       "      .replace(/,/g, '</td><td>') + '</td></tr></table></div>';\n",
       "  }\n",
       "\n",
       "  function reqListener () {\n",
       "    if (el.title.endsWith(\".csv\")) {\n",
       "      iframe.setAttribute(\"srcdoc\", tblcss + csvToHtmlTable(this.responseText));\n",
       "    } else {\n",
       "      iframe.setAttribute(\"srcdoc\", this.responseText);\n",
       "    }\n",
       "    console.log(this.responseText);\n",
       "  }\n",
       "\n",
       "  const oReq = new XMLHttpRequest();\n",
       "  oReq.addEventListener(\"load\", reqListener);\n",
       "  oReq.open(\"GET\", el.title);\n",
       "  oReq.send();\n",
       "\n",
       "\n",
       "  //iframe.src = el.title;\n",
       "  const resultPane = document.querySelector(panelName + \"-pane\");\n",
       "  if (resultPane.classList.contains(\"hidden\")) {\n",
       "    resultPane.classList.remove(\"hidden\");\n",
       "  }\n",
       "}\n",
       "function closePanel(el) {\n",
       "  const panelName = \"#\" + el.getAttribute('paneName')\n",
       "  const resultPane = document.querySelector(panelName + \"-pane\");\n",
       "  if (!resultPane.classList.contains(\"hidden\")) {\n",
       "    resultPane.classList.add(\"hidden\");\n",
       "  }\n",
       "}\n",
       "\n",
       "</script>\n",
       "<div class=\"master-wrapper\">\n",
       "  <div class=\"block master-tbl\"><div>\n",
       "<style scoped>\n",
       "    .dataframe tbody tr th:only-of-type {\n",
       "        vertical-align: middle;\n",
       "    }\n",
       "\n",
       "    .dataframe tbody tr th {\n",
       "        vertical-align: top;\n",
       "    }\n",
       "\n",
       "    .dataframe thead th {\n",
       "        text-align: right;\n",
       "    }\n",
       "</style>\n",
       "<table border=\"1\" class=\"dataframe\">\n",
       "  <thead>\n",
       "    <tr style=\"text-align: right;\">\n",
       "      <th>project</th>\n",
       "      <th>uid</th>\n",
       "      <th>iter</th>\n",
       "      <th>start</th>\n",
       "      <th>state</th>\n",
       "      <th>name</th>\n",
       "      <th>labels</th>\n",
       "      <th>inputs</th>\n",
       "      <th>parameters</th>\n",
       "      <th>results</th>\n",
       "      <th>artifacts</th>\n",
       "    </tr>\n",
       "  </thead>\n",
       "  <tbody>\n",
       "    <tr>\n",
       "      <td>network-operations</td>\n",
       "      <td><div title=\"7b52930d82c145a989ac9e82dbcabab8\"><a href=\"https://mlrun-ui.default-tenant.app.dev6.lab.iguazeng.com/projects/network-operations/jobs/7b52930d82c145a989ac9e82dbcabab8/info\" target=\"_blank\" >...dbcabab8</a></div></td>\n",
       "      <td>0</td>\n",
       "      <td>Jul 01 08:31:32</td>\n",
       "      <td>completed</td>\n",
       "      <td>describe</td>\n",
       "      <td><div class=\"dictlist\">v3io_user=admin</div><div class=\"dictlist\">kind=job</div><div class=\"dictlist\">owner=admin</div><div class=\"dictlist\">host=describe-vgm4f</div></td>\n",
       "      <td><div title=\"/User/demo-network-operations/data/metrics.pq\">table</div></td>\n",
       "      <td><div class=\"dictlist\">key=summary</div><div class=\"dictlist\">label_column=is_error</div><div class=\"dictlist\">class_labels=['0', '1']</div><div class=\"dictlist\">plot_hist=True</div><div class=\"dictlist\">plot_dest=plots-metrics</div></td>\n",
       "      <td></td>\n",
       "      <td><div class=\"artifact\" onclick=\"expandPanel(this)\" paneName=\"result756a9e20\" title=\"/files/demo-network-operations/artifacts/plots/hist.html\">histograms</div><div class=\"artifact\" onclick=\"expandPanel(this)\" paneName=\"result756a9e20\" title=\"/files/demo-network-operations/artifacts/plots/imbalance.html\">imbalance</div><div class=\"artifact\" onclick=\"expandPanel(this)\" paneName=\"result756a9e20\" title=\"/files/demo-network-operations/artifacts/plots/imbalance-weights-vec.csv\">imbalance-weights-vec</div><div class=\"artifact\" onclick=\"expandPanel(this)\" paneName=\"result756a9e20\" title=\"/files/demo-network-operations/artifacts/plots/correlation-matrix.csv\">correlation-matrix</div><div class=\"artifact\" onclick=\"expandPanel(this)\" paneName=\"result756a9e20\" title=\"/files/demo-network-operations/artifacts/plots/corr.html\">correlation</div></td>\n",
       "    </tr>\n",
       "  </tbody>\n",
       "</table>\n",
       "</div></div>\n",
       "  <div id=\"result756a9e20-pane\" class=\"right-pane block hidden\">\n",
       "    <div class=\"pane-header\">\n",
       "      <span id=\"result756a9e20-title\" class=\"pane-header-title\">Title</span>\n",
       "      <span onclick=\"closePanel(this)\" paneName=\"result756a9e20\" class=\"close clickable\">&times;</span>\n",
       "    </div>\n",
       "    <iframe class=\"fileview\" id=\"result756a9e20-body\"></iframe>\n",
       "  </div>\n",
       "</div>\n"
      ],
      "text/plain": [
       "<IPython.core.display.HTML object>"
      ]
     },
     "metadata": {},
     "output_type": "display_data"
    },
    {
     "name": "stdout",
     "output_type": "stream",
     "text": [
      "to track results use .show() or .logs() or in CLI: \n",
      "!mlrun get run 7b52930d82c145a989ac9e82dbcabab8 --project network-operations , !mlrun logs 7b52930d82c145a989ac9e82dbcabab8 --project network-operations\n",
      "[mlrun] 2020-07-01 08:31:45,952 run executed, status=completed\n"
     ]
    }
   ],
   "source": [
    "decsribe_run = newproj.func('describe').apply(mount_v3io()).run(describe_task)"
   ]
  },
  {
   "cell_type": "markdown",
   "metadata": {},
   "source": [
    "### Create the feature vector"
   ]
  },
  {
   "cell_type": "markdown",
   "metadata": {},
   "source": [
    "We will use our [Aggregate](https://github.com/mlrun/functions/blob/master/aggregate/aggregate.ipynb) function to create rolling window features for our feature vector.\n",
    "\n",
    "In doing so we hope that we could help our algorithms identify local errors by using a windowed trend"
   ]
  },
  {
   "cell_type": "code",
   "execution_count": 9,
   "metadata": {},
   "outputs": [],
   "source": [
    "# Define aggregate task\n",
    "from mlrun import NewTask\n",
    "aggregate_task = NewTask(\n",
    "    name='aggregate',\n",
    "    params={'metrics': ['cpu_utilization', 'throughput', 'packet_loss', 'latency'],\n",
    "            'metric_aggs': ['mean', 'sum', 'std', 'var', 'min', 'max', 'median'],\n",
    "            'suffix': 'daily',\n",
    "            'append_to_df': True,\n",
    "            'window': 20,\n",
    "            'center': False,\n",
    "            'save_to': os.path.join('data', 'aggregate.pq'),\n",
    "            'drop_na': True},\n",
    "    inputs={'df_artifact': '/User/demo-network-operations/data/metrics.pq'},\n",
    "    handler='aggregate')"
   ]
  },
  {
   "cell_type": "code",
   "execution_count": 10,
   "metadata": {},
   "outputs": [
    {
     "name": "stdout",
     "output_type": "stream",
     "text": [
      "[mlrun] 2020-07-05 15:43:10,364 starting run aggregate uid=fd3e17bd40fd4cb78bb7c70cdd420225  -> http://mlrun-api:8080\n",
      "[mlrun] 2020-07-05 15:43:10,487 Job is running in the background, pod: aggregate-vrfjz\n",
      "[mlrun] 2020-07-05 15:43:15,109 Aggregating /User/demo-network-operations/data/metrics.pq\n",
      "[mlrun] 2020-07-05 15:43:15,265 Logging artifact\n",
      "\n",
      "[mlrun] 2020-07-05 15:43:15,504 run executed, status=completed\n",
      "final state: succeeded\n"
     ]
    },
    {
     "data": {
      "text/html": [
       "<style>\n",
       ".dictlist {\n",
       "  background-color: #b3edff;\n",
       "  text-align: center;\n",
       "  margin: 4px;\n",
       "  border-radius: 3px; padding: 0px 3px 1px 3px; display: inline-block;}\n",
       ".artifact {\n",
       "  cursor: pointer;\n",
       "  background-color: #ffe6cc;\n",
       "  text-align: left;\n",
       "  margin: 4px; border-radius: 3px; padding: 0px 3px 1px 3px; display: inline-block;\n",
       "}\n",
       "div.block.hidden {\n",
       "  display: none;\n",
       "}\n",
       ".clickable {\n",
       "  cursor: pointer;\n",
       "}\n",
       ".ellipsis {\n",
       "  display: inline-block;\n",
       "  max-width: 60px;\n",
       "  white-space: nowrap;\n",
       "  overflow: hidden;\n",
       "  text-overflow: ellipsis;\n",
       "}\n",
       ".master-wrapper {\n",
       "  display: flex;\n",
       "  flex-flow: row nowrap;\n",
       "  justify-content: flex-start;\n",
       "  align-items: stretch;\n",
       "}\n",
       ".master-tbl {\n",
       "  flex: 3\n",
       "}\n",
       ".master-wrapper > div {\n",
       "  margin: 4px;\n",
       "  padding: 10px;\n",
       "}\n",
       "iframe.fileview {\n",
       "  border: 0 none;\n",
       "  height: 100%;\n",
       "  width: 100%;\n",
       "  white-space: pre-wrap;\n",
       "}\n",
       ".pane-header-title {\n",
       "  width: 80%;\n",
       "  font-weight: 500;\n",
       "}\n",
       ".pane-header {\n",
       "  line-height: 1;\n",
       "  background-color: #ffe6cc;\n",
       "  padding: 3px;\n",
       "}\n",
       ".pane-header .close {\n",
       "  font-size: 20px;\n",
       "  font-weight: 700;\n",
       "  float: right;\n",
       "  margin-top: -5px;\n",
       "}\n",
       ".master-wrapper .right-pane {\n",
       "  border: 1px inset silver;\n",
       "  width: 40%;\n",
       "  min-height: 300px;\n",
       "  flex: 3\n",
       "  min-width: 500px;\n",
       "}\n",
       ".master-wrapper * {\n",
       "  box-sizing: border-box;\n",
       "}\n",
       "</style><script>\n",
       "function copyToClipboard(fld) {\n",
       "    if (document.queryCommandSupported && document.queryCommandSupported('copy')) {\n",
       "        var textarea = document.createElement('textarea');\n",
       "        textarea.textContent = fld.innerHTML;\n",
       "        textarea.style.position = 'fixed';\n",
       "        document.body.appendChild(textarea);\n",
       "        textarea.select();\n",
       "\n",
       "        try {\n",
       "            return document.execCommand('copy'); // Security exception may be thrown by some browsers.\n",
       "        } catch (ex) {\n",
       "\n",
       "        } finally {\n",
       "            document.body.removeChild(textarea);\n",
       "        }\n",
       "    }\n",
       "}\n",
       "function expandPanel(el) {\n",
       "  const panelName = \"#\" + el.getAttribute('paneName');\n",
       "  console.log(el.title);\n",
       "\n",
       "  document.querySelector(panelName + \"-title\").innerHTML = el.title\n",
       "  iframe = document.querySelector(panelName + \"-body\");\n",
       "\n",
       "  const tblcss = `<style> body { font-family: Arial, Helvetica, sans-serif;}\n",
       "    #csv { margin-bottom: 15px; }\n",
       "    #csv table { border-collapse: collapse;}\n",
       "    #csv table td { padding: 4px 8px; border: 1px solid silver;} </style>`;\n",
       "\n",
       "  function csvToHtmlTable(str) {\n",
       "    return '<div id=\"csv\"><table><tr><td>' +  str.replace(/[\\n\\r]+$/g, '').replace(/[\\n\\r]+/g, '</td></tr><tr><td>')\n",
       "      .replace(/,/g, '</td><td>') + '</td></tr></table></div>';\n",
       "  }\n",
       "\n",
       "  function reqListener () {\n",
       "    if (el.title.endsWith(\".csv\")) {\n",
       "      iframe.setAttribute(\"srcdoc\", tblcss + csvToHtmlTable(this.responseText));\n",
       "    } else {\n",
       "      iframe.setAttribute(\"srcdoc\", this.responseText);\n",
       "    }\n",
       "    console.log(this.responseText);\n",
       "  }\n",
       "\n",
       "  const oReq = new XMLHttpRequest();\n",
       "  oReq.addEventListener(\"load\", reqListener);\n",
       "  oReq.open(\"GET\", el.title);\n",
       "  oReq.send();\n",
       "\n",
       "\n",
       "  //iframe.src = el.title;\n",
       "  const resultPane = document.querySelector(panelName + \"-pane\");\n",
       "  if (resultPane.classList.contains(\"hidden\")) {\n",
       "    resultPane.classList.remove(\"hidden\");\n",
       "  }\n",
       "}\n",
       "function closePanel(el) {\n",
       "  const panelName = \"#\" + el.getAttribute('paneName')\n",
       "  const resultPane = document.querySelector(panelName + \"-pane\");\n",
       "  if (!resultPane.classList.contains(\"hidden\")) {\n",
       "    resultPane.classList.add(\"hidden\");\n",
       "  }\n",
       "}\n",
       "\n",
       "</script>\n",
       "<div class=\"master-wrapper\">\n",
       "  <div class=\"block master-tbl\"><div>\n",
       "<style scoped>\n",
       "    .dataframe tbody tr th:only-of-type {\n",
       "        vertical-align: middle;\n",
       "    }\n",
       "\n",
       "    .dataframe tbody tr th {\n",
       "        vertical-align: top;\n",
       "    }\n",
       "\n",
       "    .dataframe thead th {\n",
       "        text-align: right;\n",
       "    }\n",
       "</style>\n",
       "<table border=\"1\" class=\"dataframe\">\n",
       "  <thead>\n",
       "    <tr style=\"text-align: right;\">\n",
       "      <th>project</th>\n",
       "      <th>uid</th>\n",
       "      <th>iter</th>\n",
       "      <th>start</th>\n",
       "      <th>state</th>\n",
       "      <th>name</th>\n",
       "      <th>labels</th>\n",
       "      <th>inputs</th>\n",
       "      <th>parameters</th>\n",
       "      <th>results</th>\n",
       "      <th>artifacts</th>\n",
       "    </tr>\n",
       "  </thead>\n",
       "  <tbody>\n",
       "    <tr>\n",
       "      <td>network-operations</td>\n",
       "      <td><div title=\"fd3e17bd40fd4cb78bb7c70cdd420225\"><a href=\"https://mlrun-ui.default-tenant.app.dev6.lab.iguazeng.com/projects/network-operations/jobs/fd3e17bd40fd4cb78bb7c70cdd420225/info\" target=\"_blank\" >...dd420225</a></div></td>\n",
       "      <td>0</td>\n",
       "      <td>Jul 05 15:43:15</td>\n",
       "      <td>completed</td>\n",
       "      <td>aggregate</td>\n",
       "      <td><div class=\"dictlist\">v3io_user=admin</div><div class=\"dictlist\">kind=job</div><div class=\"dictlist\">owner=admin</div><div class=\"dictlist\">host=aggregate-vrfjz</div></td>\n",
       "      <td><div title=\"/User/demo-network-operations/data/metrics.pq\">df_artifact</div></td>\n",
       "      <td><div class=\"dictlist\">metrics=['cpu_utilization', 'throughput', 'packet_loss', 'latency']</div><div class=\"dictlist\">metric_aggs=['mean', 'sum', 'std', 'var', 'min', 'max', 'median']</div><div class=\"dictlist\">suffix=daily</div><div class=\"dictlist\">append_to_df=True</div><div class=\"dictlist\">window=20</div><div class=\"dictlist\">center=False</div><div class=\"dictlist\">save_to=data/aggregate.pq</div><div class=\"dictlist\">drop_na=True</div></td>\n",
       "      <td></td>\n",
       "      <td><div title=\"/User/demo-network-operations/artifacts/data/aggregate.pq\">aggregate</div></td>\n",
       "    </tr>\n",
       "  </tbody>\n",
       "</table>\n",
       "</div></div>\n",
       "  <div id=\"result98523fa3-pane\" class=\"right-pane block hidden\">\n",
       "    <div class=\"pane-header\">\n",
       "      <span id=\"result98523fa3-title\" class=\"pane-header-title\">Title</span>\n",
       "      <span onclick=\"closePanel(this)\" paneName=\"result98523fa3\" class=\"close clickable\">&times;</span>\n",
       "    </div>\n",
       "    <iframe class=\"fileview\" id=\"result98523fa3-body\"></iframe>\n",
       "  </div>\n",
       "</div>\n"
      ],
      "text/plain": [
       "<IPython.core.display.HTML object>"
      ]
     },
     "metadata": {},
     "output_type": "display_data"
    },
    {
     "name": "stdout",
     "output_type": "stream",
     "text": [
      "to track results use .show() or .logs() or in CLI: \n",
      "!mlrun get run fd3e17bd40fd4cb78bb7c70cdd420225 --project network-operations , !mlrun logs fd3e17bd40fd4cb78bb7c70cdd420225 --project network-operations\n",
      "[mlrun] 2020-07-05 15:43:19,782 run executed, status=completed\n"
     ]
    }
   ],
   "source": [
    "newproj.func('aggregate').spec.image = 'mlrun/ml-models:unstable-py36'\n",
    "newproj.func('aggregate').spec.imagePullPolicy = 'Always'\n",
    "aggregate_run = newproj.func('aggregate').apply(mount_v3io()).run(aggregate_task)"
   ]
  },
  {
   "cell_type": "markdown",
   "metadata": {},
   "source": [
    "### Get statistics about the feature vector"
   ]
  },
  {
   "cell_type": "code",
   "execution_count": 84,
   "metadata": {},
   "outputs": [],
   "source": [
    "aggregate_describe_task = NewTask(\n",
    "    name=\"describe-aggregate\", \n",
    "    handler=\"summarize\",  \n",
    "    params={\"key\": \"summary\", \n",
    "            \"label_column\": label_column, \n",
    "            'class_labels': ['0', '1'],\n",
    "            'plot_hist': True,\n",
    "            'plot_dest': 'plots-aggregate',\n",
    "            'sample': 0.3},\n",
    "    inputs={\"table\": aggregate_run.outputs['aggregate']},\n",
    "    artifact_path=ARTIFACT_PATH)"
   ]
  },
  {
   "cell_type": "code",
   "execution_count": null,
   "metadata": {},
   "outputs": [],
   "source": [
    "aggregate_decsribe_run = newproj.func('describe').apply(mount_v3io()).run(aggregate_describe_task)"
   ]
  },
  {
   "cell_type": "markdown",
   "metadata": {},
   "source": [
    "## Create workflow to train the model\n",
    "After reviewing the data and creating the feature vector we move to training our model.  \n",
    "For this task we will use an **LGBM** classifier.  To control the training process we will supply a `model_config` dictionary with the following parameters:\n",
    "- **CLASS**: Model-specific parameters.\n",
    "- **FIT**: Training parameters (like epoch when needed)\n",
    "- **META**: Model and Package version"
   ]
  },
  {
   "cell_type": "markdown",
   "metadata": {},
   "source": [
    "### Setup model configurations"
   ]
  },
  {
   "cell_type": "code",
   "execution_count": 8,
   "metadata": {},
   "outputs": [],
   "source": [
    "model_configs = {\n",
    "    \"CLASS\" : {\n",
    "        \"boosting_type\"      : \"gbdt\",\n",
    "        \"num_leaves\"         : 300,\n",
    "        \"max_depth\"          : 50,\n",
    "        \"learning_rate\"      : 0.1,\n",
    "        \"n_estimators\"       : 300,\n",
    "        \"objective\"          : \"binary\",\n",
    "        \"scale_pos_weight\"   : 1,    \n",
    "        \"min_split_gain\"     : 0.0,\n",
    "        \"min_child_samples\"  : 20,\n",
    "        \"subsample\"          : 1,\n",
    "        \"colsample_bytree\"   : 1,\n",
    "        \"reg_alpha\"          : 0,\n",
    "        \"reg_lambda\"         : 1,\n",
    "        \"n_jobs\"             : 16,\n",
    "        \"silent\"             : True,\n",
    "        \"importance_type\"    : \"split\",\n",
    "        \"random_state\"       : 1},\n",
    "    \"FIT\" : {\n",
    "        \"verbose\"               : False\n",
    "    },\n",
    "    \"META\" : {\n",
    "        \"class\" : \"lightgbm.sklearn.LGBMClassifier\",\n",
    "        \"version\" : \"2.3.1\"\n",
    "    }\n",
    "}\n",
    "model_config_path = os.path.join(os.path.abspath(newproj.context), 'data', 'lgb_model.json')\n",
    "with open(model_config_path, 'w') as f:\n",
    "          f.write(json.dumps(model_configs))"
   ]
  },
  {
   "cell_type": "code",
   "execution_count": 9,
   "metadata": {},
   "outputs": [],
   "source": [
    "newproj.log_artifact('lgb_configs',\n",
    "                     target_path = os.path.abspath(model_config_path))"
   ]
  },
  {
   "cell_type": "markdown",
   "metadata": {},
   "source": [
    "### Create Pipeline Workflow"
   ]
  },
  {
   "cell_type": "code",
   "execution_count": 8,
   "metadata": {},
   "outputs": [
    {
     "name": "stdout",
     "output_type": "stream",
     "text": [
      "Overwriting src/workflow.py\n"
     ]
    }
   ],
   "source": [
    "%%writefile src/workflow.py\n",
    "from kfp import dsl\n",
    "from mlrun import mount_v3io, mlconf\n",
    "import os\n",
    "from nuclio.triggers import V3IOStreamTrigger\n",
    "\n",
    "funcs = {}\n",
    "projdir = os.getcwd()\n",
    "label_column = 'is_error'\n",
    "model_inference_stream = '/users/admin/demo-network-operations/streaming/inference_stream'\n",
    "model_inference_url = f'http://v3io-webapi:8081{model_inference_stream}'\n",
    "\n",
    "\n",
    "def init_functions(functions: dict, project=None, secrets=None):\n",
    "    tags = {'ml-models': 'unstable-py36',\n",
    "            'mlrun': 'unstable'}\n",
    "    for f in functions.values():\n",
    "        # Add V3IO Mount\n",
    "        f.apply(mount_v3io())\n",
    "        if hasattr(f.spec, 'image'):\n",
    "            if not f.spec.image.endswith('unstable-py36') and (not f.spec.image == ''):\n",
    "                current_image = f.spec.image.split(':')[0]\n",
    "                fn_image = f\"{current_image}:{tags[current_image.split('/')[1]]}\"\n",
    "                print(fn_image)\n",
    "                f.spec.image = fn_image\n",
    "        \n",
    "        # Always pull images to keep updates\n",
    "        f.spec.image_pull_policy = 'Always'\n",
    "        \n",
    "    functions['serving'].metadata.name = 'netops-server'\n",
    "    functions['serving'].spec.min_replicas = 1\n",
    "    functions['serving'].spec.build.baseImage = 'mlrun/mlrun:unstable'\n",
    "    \n",
    "    # Define inference-stream related triggers\n",
    "    functions['serving'].set_envs({'INFERENCE_STREAM': model_inference_stream})\n",
    "    functions['s2p'].add_trigger('labeled_stream', V3IOStreamTrigger(url=f'{model_inference_url}@s2p'))\n",
    "    functions['s2p'].set_envs({'window': 10,\n",
    "                               'features': 'cpu_utilization',\n",
    "                               'save_to': '/User/demo-network-operations/streaming/inference_pq/',\n",
    "                               'base_dataset': '/User/demo-network-operations/artifacts/test_set_preds.parquet',\n",
    "                               'hub_url': '/User/functions/{name}/function.yaml',\n",
    "                               'mount_path': '~/',\n",
    "                               'mount_remote': '/User'})\n",
    "                \n",
    "        \n",
    "@dsl.pipeline(\n",
    "    name='Network Operations Demo',\n",
    "    description='Train a Failure Prediction LGBM Model over sensor data'\n",
    ")\n",
    "def kfpipeline(\n",
    "        df_artifact = '/User/demo-network-operations/data/metrics.pq',\n",
    "        metrics = ['cpu_utilization', 'throughput', 'packet_loss', 'latency'],\n",
    "        metric_aggs = ['mean', 'sum', 'std', 'var', 'min', 'max', 'median'],\n",
    "        suffix = 'daily',\n",
    "        window = 20,\n",
    "        describe_table = 'netops',\n",
    "        describe_sample = 0.3,\n",
    "        label_column = label_column,\n",
    "        class_labels = [1, 0],\n",
    "        SAMPLE_SIZE      = -1, # -n for random sample of n obs, -1 for entire dataset, +n for n consecutive rows\n",
    "        TEST_SIZE        = 0.1,       # 10% set aside\n",
    "        TRAIN_VAL_SPLIT  = 0.75,      # remainder split into train and val\n",
    "        aggregate_fn_url = '/User/functions/aggregate/function.yaml',\n",
    "        streaming_metrics_table = '/User/demo-network-operations/streaming/metrics',\n",
    "        streaming_features_table = '/User/demo-network-operations/streaming/features',\n",
    "        streaming_predictions_table = '/User/demo-network-operations/streaming/predictions',\n",
    "        streaming_labeled_table = '/users/admin/demo-network-operations/streaming/labeled_stream',\n",
    "        predictions_col = 'predictions',\n",
    "        secs_to_generate = 10,\n",
    "        deploy_streaming = True,\n",
    "        deploy_concept_drift = True\n",
    "    ):\n",
    "    \n",
    "    # Run preprocessing on the data\n",
    "    aggregate = funcs['aggregate'].as_step(name='aggregate',\n",
    "                                                  params={'metrics': metrics,\n",
    "                                                          'metric_aggs': metric_aggs,\n",
    "                                                          'suffix': suffix,\n",
    "                                                          },\n",
    "                                                  inputs={'df_artifact': df_artifact},\n",
    "                                                  outputs=['aggregate'],\n",
    "                                                  handler='aggregate',\n",
    "                                                  image='mlrun/ml-models:unstable-py36')\n",
    "\n",
    "    describe = funcs['describe'].as_step(name='describe-aggregation',\n",
    "                                                handler=\"summarize\",  \n",
    "                                                params={\"key\": f\"{describe_table}_aggregate\", \n",
    "                                                        \"label_column\": label_column, \n",
    "                                                        'class_labels': class_labels,\n",
    "                                                        'plot_hist': True,\n",
    "                                                        'plot_dest': 'plots/aggregation',\n",
    "                                                        'sample': describe_sample},\n",
    "                                                inputs={\"table\": aggregate.outputs['aggregate']},\n",
    "                                                outputs=[\"summary\", \"scale_pos_weight\"])\n",
    "    \n",
    "    feature_selection = funcs['feature_selection'].as_step(name='feature_selection',\n",
    "                                                           handler='feature_selection',\n",
    "                                                           params={'k': 5,\n",
    "                                                                   'min_votes': 3,\n",
    "                                                                   'label_column': label_column},\n",
    "                                                           inputs={'df_artifact': aggregate.outputs['aggregate']},\n",
    "                                                           outputs=['feature_scores', \n",
    "                                                                    'max_scaled_scores_feature_scores'\n",
    "                                                                    'selected_features_count', \n",
    "                                                                    'selected_features'],\n",
    "                                                           image='mlrun/ml-models:unstable-py36')\n",
    "    \n",
    "    describe = funcs['describe'].as_step(name='describe-feature-vector',\n",
    "                                            handler=\"summarize\",  \n",
    "                                            params={\"key\": f'{describe_table}_features', \n",
    "                                                    \"label_column\": label_column, \n",
    "                                                    'class_labels': class_labels,\n",
    "                                                    'plot_hist': True,\n",
    "                                                    'plot_dest': 'plots/feature_vector'},\n",
    "                                            inputs={\"table\": feature_selection.outputs['selected_features']},\n",
    "                                            outputs=[\"summary\", \"scale_pos_weight\"])\n",
    "    \n",
    "    train = funcs['train'].as_step(name='train',\n",
    "                                   params={\"sample\"          : SAMPLE_SIZE, \n",
    "                                           \"label_column\"    : label_column,\n",
    "                                           \"test_size\"       : TEST_SIZE},\n",
    "                                   inputs={\"dataset\"         : feature_selection.outputs['selected_features']},\n",
    "                                   hyperparams={'model_pkg_class': [\"sklearn.ensemble.RandomForestClassifier\", \n",
    "                                                                    \"sklearn.linear_model.LogisticRegression\",\n",
    "                                                                    \"sklearn.ensemble.AdaBoostClassifier\"]},\n",
    "                                   selector='max.accuracy',\n",
    "                                   outputs=['model', 'test_set'],\n",
    "                                   image='mlrun/ml-models:unstable-py36')\n",
    "    \n",
    "    test = funcs['test'].as_step(name='test',\n",
    "                                 handler='test_classifier',\n",
    "                                 params={'label_column': label_column,\n",
    "                                         'predictions_column': predictions_col},\n",
    "                                 inputs={'models_path': train.outputs['model'],\n",
    "                                         'test_set': train.outputs['test_set']},\n",
    "                                 image='mlrun/ml-models:unstable-py36')\n",
    "    \n",
    "    # deploy the model using nuclio functions\n",
    "    deploy = funcs['serving'].deploy_step(env={'model_path': train.outputs['model'],\n",
    "                                               'FEATURES_TABLE': streaming_features_table,\n",
    "                                               'PREDICTIONS_TABLE': streaming_predictions_table,\n",
    "                                               'prediction_col': predictions_col}, \n",
    "                                          tag='v1')\n",
    "    \n",
    "    # test out new model server (via REST API calls)\n",
    "    tester = funcs[\"model_server-tester\"].as_step(name='model-tester',\n",
    "                                                  params={'addr': deploy.outputs['endpoint'], \n",
    "                                                          'model': \"predictor\",\n",
    "                                                          'label_column': label_column},\n",
    "                                                  inputs={'table': train.outputs['test_set']})\n",
    "    \n",
    "    with dsl.Condition(deploy_streaming == True):\n",
    "    \n",
    "        # Streaming demo functions\n",
    "        preprocessor = funcs['preprocessor'].deploy_step(env={ 'aggregate_fn_url': aggregate_fn_url,\n",
    "                                                                'METRICS_TABLE': streaming_metrics_table,\n",
    "                                                                'FEATURES_TABLE': streaming_features_table,\n",
    "                                                                'metrics': metrics,\n",
    "                                                                'metric_aggs': metric_aggs,\n",
    "                                                                'suffix': suffix,\n",
    "                                                                'base_dataset': '/User/demo-network-operations/artifacts/selected_features.parquet',\n",
    "                                                                'label_col': label_column}).after(tester)\n",
    "\n",
    "        labeled_stream_creator = funcs['labeled_stream'].deploy_step(env={'METRICS_TABLE': streaming_metrics_table,\n",
    "                                                                                  'PREDICTIONS_TABLE': streaming_predictions_table,\n",
    "                                                                                  'OUTPUT_STREAM': streaming_labeled_table,\n",
    "                                                                                  'label_col': label_column,\n",
    "                                                                                  'prediction_col': predictions_col}).after(tester)\n",
    "\n",
    "        generator = funcs['generator'].deploy_step(env={'SAVE_TO': streaming_metrics_table,\n",
    "                                                        'SECS_TO_GENERATE': secs_to_generate}).after(preprocessor)\n",
    "        \n",
    "        with dsl.Condition(deploy_concept_drift == True):\n",
    "\n",
    "            concept_builder = funcs['concept_drift'].deploy_step(skip_deployed=True)\n",
    "\n",
    "            concept_drift = funcs['concept_drift'].as_step(name='concept_drift_deployer',\n",
    "                                                           params={'models': ['ddm', 'eddm', 'pagehinkley'],\n",
    "                                                                   'label_col': label_column,\n",
    "                                                                   'prediction_col': predictions_col,\n",
    "                                                                   'hub_url': '/User/functions/{name}/function.yaml',\n",
    "                                                                   'output_tsdb': '/User/network-operations/streaming/drift_tsdb',\n",
    "                                                                   'input_stream': 'http://v3io-webapi:8081/users/admin/network-operations/streaming/labeled_stream@cd2',\n",
    "                                                                   'output_stream': '/User/network-operations/streaming/drift_stream'},\n",
    "                                                           inputs={'base_dataset': '/User/demo-network-operations/artifacts/test_set_preds.parquet'},\n",
    "                                                           artifact_path=mlconf.artifact_path,\n",
    "                                                           image=concept_builder.outputs['image']).after(labeled_stream_creator)\n",
    "\n",
    "            s2p = funcs['s2p'].deploy_step(env={'window': 10,\n",
    "                                                'features': 'cpu_utilization',\n",
    "                                                'save_to': '/User/demo-network-operations/streaming/inference_pq/',\n",
    "                                                'base_dataset': '/User/demo-network-operations/artifacts/test_set_preds.parquet',\n",
    "                                                'hub_url': '/User/functions/{name}/function.yaml',\n",
    "                                                'mount_path': '~/',\n",
    "                                                'mount_remote': '/User'}).after(tester)\n",
    "    "
   ]
  },
  {
   "cell_type": "markdown",
   "metadata": {},
   "source": [
    "## Add workflow"
   ]
  },
  {
   "cell_type": "code",
   "execution_count": 9,
   "metadata": {},
   "outputs": [],
   "source": [
    "newproj.set_workflow('main', os.path.join(os.path.abspath(newproj.context), 'src', 'workflow.py'))"
   ]
  },
  {
   "cell_type": "markdown",
   "metadata": {},
   "source": [
    "## Save Project"
   ]
  },
  {
   "cell_type": "code",
   "execution_count": 10,
   "metadata": {},
   "outputs": [],
   "source": [
    "newproj.save(os.path.join(newproj.context, 'project.yaml'))"
   ]
  },
  {
   "cell_type": "markdown",
   "metadata": {},
   "source": [
    "### Run workflow"
   ]
  },
  {
   "cell_type": "code",
   "execution_count": 11,
   "metadata": {},
   "outputs": [
    {
     "name": "stdout",
     "output_type": "stream",
     "text": [
      "[mlrun] 2020-07-13 17:07:15,754 WARNING!, you seem to have uncommitted git changes, use .push()\n",
      "mlrun/ml-models:unstable-py36\n",
      "mlrun/ml-models:unstable-py36\n",
      "mlrun/ml-models:unstable-py36\n",
      "mlrun/ml-models:unstable-py36\n",
      "mlrun/ml-models:unstable-py36\n",
      "mlrun/mlrun:unstable\n",
      "mlrun/ml-models:unstable-py36\n",
      "[mlrun] 2020-07-13 17:07:16,208 using in-cluster config.\n"
     ]
    },
    {
     "name": "stderr",
     "output_type": "stream",
     "text": [
      "/conda/lib/python3.6/site-packages/kfp/components/_data_passing.py:168: UserWarning: Missing type name was inferred as \"JsonArray\" based on the value \"['cpu_utilization', 'throughput', 'packet_loss', 'latency']\".\n",
      "  warnings.warn('Missing type name was inferred as \"{}\" based on the value \"{}\".'.format(type_name, str(value)))\n",
      "/conda/lib/python3.6/site-packages/kfp/components/_data_passing.py:168: UserWarning: Missing type name was inferred as \"JsonArray\" based on the value \"['mean', 'sum', 'std', 'var', 'min', 'max', 'median']\".\n",
      "  warnings.warn('Missing type name was inferred as \"{}\" based on the value \"{}\".'.format(type_name, str(value)))\n",
      "/conda/lib/python3.6/site-packages/kfp/components/_data_passing.py:168: UserWarning: Missing type name was inferred as \"Integer\" based on the value \"20\".\n",
      "  warnings.warn('Missing type name was inferred as \"{}\" based on the value \"{}\".'.format(type_name, str(value)))\n",
      "/conda/lib/python3.6/site-packages/kfp/components/_data_passing.py:168: UserWarning: Missing type name was inferred as \"Float\" based on the value \"0.3\".\n",
      "  warnings.warn('Missing type name was inferred as \"{}\" based on the value \"{}\".'.format(type_name, str(value)))\n",
      "/conda/lib/python3.6/site-packages/kfp/components/_data_passing.py:168: UserWarning: Missing type name was inferred as \"JsonArray\" based on the value \"[1, 0]\".\n",
      "  warnings.warn('Missing type name was inferred as \"{}\" based on the value \"{}\".'.format(type_name, str(value)))\n",
      "/conda/lib/python3.6/site-packages/kfp/components/_data_passing.py:168: UserWarning: Missing type name was inferred as \"Integer\" based on the value \"-1\".\n",
      "  warnings.warn('Missing type name was inferred as \"{}\" based on the value \"{}\".'.format(type_name, str(value)))\n",
      "/conda/lib/python3.6/site-packages/kfp/components/_data_passing.py:168: UserWarning: Missing type name was inferred as \"Float\" based on the value \"0.1\".\n",
      "  warnings.warn('Missing type name was inferred as \"{}\" based on the value \"{}\".'.format(type_name, str(value)))\n",
      "/conda/lib/python3.6/site-packages/kfp/components/_data_passing.py:168: UserWarning: Missing type name was inferred as \"Float\" based on the value \"0.75\".\n",
      "  warnings.warn('Missing type name was inferred as \"{}\" based on the value \"{}\".'.format(type_name, str(value)))\n",
      "/conda/lib/python3.6/site-packages/kfp/components/_data_passing.py:168: UserWarning: Missing type name was inferred as \"Integer\" based on the value \"10\".\n",
      "  warnings.warn('Missing type name was inferred as \"{}\" based on the value \"{}\".'.format(type_name, str(value)))\n",
      "/conda/lib/python3.6/site-packages/kfp/components/_data_passing.py:168: UserWarning: Missing type name was inferred as \"Boolean\" based on the value \"True\".\n",
      "  warnings.warn('Missing type name was inferred as \"{}\" based on the value \"{}\".'.format(type_name, str(value)))\n"
     ]
    },
    {
     "data": {
      "text/html": [
       "Experiment link <a href=\"https://dashboard.default-tenant.app.dev6.lab.iguazeng.com/pipelines/#/experiments/details/15b9bc55-e757-4aa0-96b3-e4bb64d61623\" target=\"_blank\" >here</a>"
      ],
      "text/plain": [
       "<IPython.core.display.HTML object>"
      ]
     },
     "metadata": {},
     "output_type": "display_data"
    },
    {
     "data": {
      "text/html": [
       "Run link <a href=\"https://dashboard.default-tenant.app.dev6.lab.iguazeng.com/pipelines/#/runs/details/5208dea0-4a26-4e20-b217-d8edb06251db\" target=\"_blank\" >here</a>"
      ],
      "text/plain": [
       "<IPython.core.display.HTML object>"
      ]
     },
     "metadata": {},
     "output_type": "display_data"
    },
    {
     "name": "stdout",
     "output_type": "stream",
     "text": [
      "[mlrun] 2020-07-13 17:07:17,430 Pipeline run id=5208dea0-4a26-4e20-b217-d8edb06251db, check UI or DB for progress\n"
     ]
    },
    {
     "data": {
      "text/plain": [
       "'5208dea0-4a26-4e20-b217-d8edb06251db'"
      ]
     },
     "execution_count": 11,
     "metadata": {},
     "output_type": "execute_result"
    }
   ],
   "source": [
    "newproj.run('main', artifact_path=ARTIFACT_PATH, dirty=True)"
   ]
  },
  {
   "cell_type": "code",
   "execution_count": null,
   "metadata": {},
   "outputs": [],
   "source": []
  }
 ],
 "metadata": {
  "kernelspec": {
   "display_name": "Python 3",
   "language": "python",
   "name": "python3"
  },
  "language_info": {
   "codemirror_mode": {
    "name": "ipython",
    "version": 3
   },
   "file_extension": ".py",
   "mimetype": "text/x-python",
   "name": "python",
   "nbconvert_exporter": "python",
   "pygments_lexer": "ipython3",
   "version": "3.6.8"
  }
 },
 "nbformat": 4,
 "nbformat_minor": 4
}
