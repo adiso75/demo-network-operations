{
 "cells": [
  {
   "cell_type": "markdown",
   "metadata": {},
   "source": [
    "# Network Operations\n",
    "\n",
    "In this notebook we will assemble our project.  We will explore different functions on our dataset and compile them into a workflow ready for production.\n",
    "\n",
    "The functions we will use will be a mix of `hub` based functions from our [MLRun Functions](http://github.com/mlrun/functions) repo, local and git based notebooks.\n",
    "\n",
    "> The notebook should be run after generating the data in the [Generator Notebook](generator.ipynb)\n"
   ]
  },
  {
   "cell_type": "markdown",
   "metadata": {},
   "source": [
    "we will start by setting up our environment, Loading MLRun and some utilities we will need"
   ]
  },
  {
   "cell_type": "code",
   "execution_count": 4,
   "metadata": {},
   "outputs": [],
   "source": [
    "# Utils\n",
    "import os\n",
    "import json\n",
    "import urllib\n",
    "import numpy as np\n",
    "\n",
    "# MLRun imports\n",
    "from mlrun import mlconf\n",
    "\n",
    "# Setup API Endpoint\n",
    "mlconf.dbpath = 'http://mlrun-api:8080'"
   ]
  },
  {
   "cell_type": "markdown",
   "metadata": {},
   "source": [
    "Now lets define our current project "
   ]
  },
  {
   "cell_type": "markdown",
   "metadata": {},
   "source": [
    "## Create a project from a git repository"
   ]
  },
  {
   "cell_type": "code",
   "execution_count": 5,
   "metadata": {},
   "outputs": [],
   "source": [
    "from mlrun import new_project\n",
    "\n",
    "# update the dir and repo to reflect real locations \n",
    "# the remote git repo must be initialized in GitHub\n",
    "project_dir = os.path.abspath('./')\n",
    "remote_git = 'https://github.com/mlrun/demo-network-operations.git'\n",
    "\n",
    "# Create the project\n",
    "newproj = new_project('network-operations', project_dir, init_git=True)\n",
    "\n",
    "# We can update our project directory to the latest status by running\n",
    "# newproj.pull()"
   ]
  },
  {
   "cell_type": "markdown",
   "metadata": {},
   "source": [
    "Now that we have our project directory, lets forword our artifacts there to keep track of them"
   ]
  },
  {
   "cell_type": "code",
   "execution_count": 6,
   "metadata": {},
   "outputs": [],
   "source": [
    "# Define an artifact path to keep track of where our artifacts are going\n",
    "ARTIFACT_PATH =  os.path.join(os.path.abspath(newproj.context), 'artifacts')\n",
    "mlconf.artifact_path = ARTIFACT_PATH"
   ]
  },
  {
   "cell_type": "code",
   "execution_count": 7,
   "metadata": {},
   "outputs": [],
   "source": [
    "mlconf.hub_url='/User/functions/{name}/function.yaml'"
   ]
  },
  {
   "cell_type": "markdown",
   "metadata": {},
   "source": [
    "## Create and run functions"
   ]
  },
  {
   "cell_type": "markdown",
   "metadata": {},
   "source": [
    "As we receive a new dataset, the first thing we would like to do is to explore it a bit, we can do that using our `describe` function in `mlrun/functions`"
   ]
  },
  {
   "cell_type": "code",
   "execution_count": 8,
   "metadata": {},
   "outputs": [],
   "source": [
    "from mlrun import mount_v3io, new_model_server"
   ]
  },
  {
   "cell_type": "code",
   "execution_count": 9,
   "metadata": {},
   "outputs": [
    {
     "data": {
      "text/plain": [
       "<mlrun.runtimes.kubejob.KubejobRuntime at 0x7fa5719402b0>"
      ]
     },
     "execution_count": 9,
     "metadata": {},
     "output_type": "execute_result"
    }
   ],
   "source": [
    "# Import the functions\n",
    "# Functions From hub\n",
    "newproj.set_function(func='hub://aggregate', name='aggregate')\n",
    "newproj.set_function(func='hub://describe', name='describe')\n",
    "newproj.set_function(func='hub://feature_selection', name=\"feature_selection\")\n",
    "newproj.set_function(func='hub://sklearn_classifier', name='train')\n",
    "newproj.set_function(func='hub://test_classifier', name='test')\n",
    "newproj.set_function(func='hub://model_server', name=\"serving\")\n",
    "newproj.set_function(func='hub://model_server_tester', name=\"model_server-tester\")\n",
    "newproj.set_function(func='hub://concept_drift', name=\"concept_drift\")\n",
    "newproj.set_function(func='hub://stream_to_parquet', name=\"s2p\")\n",
    "newproj.set_function(func='hub://virtual_drift', name=\"virtual_drift\")"
   ]
  },
  {
   "cell_type": "markdown",
   "metadata": {},
   "source": [
    "## Generate the dataset\n",
    "If needed go to [Generator](./generator.ipynb) and run the local workflow to generate the metrics dataset to `data/metrics`"
   ]
  },
  {
   "cell_type": "markdown",
   "metadata": {},
   "source": [
    "## Run the functions locally to develop the workflow"
   ]
  },
  {
   "cell_type": "markdown",
   "metadata": {},
   "source": [
    "now we can **Run** the function locally on our sample data, we would like to get some details on our `raw` data"
   ]
  },
  {
   "cell_type": "markdown",
   "metadata": {},
   "source": [
    "## Register raw data as project level artifact"
   ]
  },
  {
   "cell_type": "code",
   "execution_count": null,
   "metadata": {},
   "outputs": [],
   "source": [
    "# Define base Dataset\n",
    "import random\n",
    "data_dir = os.path.join(os.path.abspath(newproj.context), 'data')\n",
    "dataset_filename = random.choice(list(filter(lambda x: x.endswith('parquet'), os.listdir(data_dir))))\n",
    "metrics_path = os.path.join(data_dir, dataset_filename)\n",
    "\n",
    "import pandas as pd\n",
    "# Drop alternate error columns\n",
    "label_column = 'is_error'\n",
    "raw = pd.read_parquet(metrics_path)\n",
    "raw = raw.drop([col for col in raw.columns if (col != label_column) & (col.endswith(label_column))], axis=1)\n",
    "\n",
    "from mlrun.artifacts import DatasetArtifact\n",
    "metrics_artifact = DatasetArtifact('metrics', raw, format='pq', target_path=os.path.join(data_dir, 'metrics.pq'))\n",
    "newproj.log_artifact(metrics_artifact)"
   ]
  },
  {
   "cell_type": "markdown",
   "metadata": {},
   "source": [
    "### Get statistics about the metrics data"
   ]
  },
  {
   "cell_type": "code",
   "execution_count": 8,
   "metadata": {},
   "outputs": [],
   "source": [
    "from mlrun import NewTask, mount_v3io"
   ]
  },
  {
   "cell_type": "code",
   "execution_count": 9,
   "metadata": {},
   "outputs": [],
   "source": [
    "describe_task = NewTask(\n",
    "    name=\"describe\", \n",
    "    handler=\"summarize\",  \n",
    "    params={\"key\": \"summary\", \n",
    "            \"label_column\": label_column, \n",
    "            'class_labels': ['0', '1'],\n",
    "            'plot_hist': True,\n",
    "            'plot_dest': 'plots-metrics'},\n",
    "    inputs={\"table\": 'store://network-operations/metrics'},\n",
    "    artifact_path=ARTIFACT_PATH)"
   ]
  },
  {
   "cell_type": "code",
   "execution_count": 10,
   "metadata": {},
   "outputs": [
    {
     "name": "stdout",
     "output_type": "stream",
     "text": [
      "[mlrun] 2020-05-24 08:08:20,681 starting run describe uid=24351772d2b44cb9b31f5c2e3b6a0e16  -> http://mlrun-api:8080\n",
      "[mlrun] 2020-05-24 08:08:21,235 Job is running in the background, pod: describe-w7k5j\n",
      "[mlrun] 2020-05-24 08:08:36,108 starting local run: main.py # summarize\n",
      "[mlrun] 2020-05-24 08:08:40,946 Loaded dataset\n",
      "[mlrun] 2020-05-24 08:08:40,947 Using 5768 samples\n",
      "[mlrun] 2020-05-24 08:08:57,900 log artifact histograms at /User/demo-network-operations/artifacts/plots/hist.html, size: 273037, db: Y\n",
      "[mlrun] 2020-05-24 08:09:00,754 log artifact imbalance at /User/demo-network-operations/artifacts/plots/imbalance.html, size: 16108, db: Y\n",
      "[mlrun] 2020-05-24 08:09:01,623 log artifact correlation at /User/demo-network-operations/artifacts/plots/corr.html, size: 31478, db: Y\n",
      "\n",
      "[mlrun] 2020-05-24 08:09:01,969 run executed, status=completed\n",
      "/opt/conda/lib/python3.7/site-packages/seaborn/distributions.py:288: UserWarning: Data must have variance to compute a kernel density estimate.\n",
      "  warnings.warn(msg, UserWarning)\n",
      "/opt/conda/lib/python3.7/site-packages/seaborn/distributions.py:288: UserWarning: Data must have variance to compute a kernel density estimate.\n",
      "  warnings.warn(msg, UserWarning)\n",
      "/opt/conda/lib/python3.7/site-packages/seaborn/distributions.py:288: UserWarning: Data must have variance to compute a kernel density estimate.\n",
      "  warnings.warn(msg, UserWarning)\n",
      "/opt/conda/lib/python3.7/site-packages/seaborn/distributions.py:288: UserWarning: Data must have variance to compute a kernel density estimate.\n",
      "  warnings.warn(msg, UserWarning)\n",
      "final state: succeeded\n"
     ]
    },
    {
     "data": {
      "text/html": [
       "<style> \n",
       ".dictlist {\n",
       "  background-color: #b3edff; \n",
       "  text-align: center; \n",
       "  margin: 4px; \n",
       "  border-radius: 3px; padding: 0px 3px 1px 3px; display: inline-block;}\n",
       ".artifact {\n",
       "  cursor: pointer; \n",
       "  background-color: #ffe6cc; \n",
       "  text-align: left; \n",
       "  margin: 4px; border-radius: 3px; padding: 0px 3px 1px 3px; display: inline-block;\n",
       "}\n",
       "div.block.hidden {\n",
       "  display: none;\n",
       "}\n",
       ".clickable {\n",
       "  cursor: pointer;\n",
       "}\n",
       ".ellipsis {\n",
       "  display: inline-block;\n",
       "  max-width: 60px;\n",
       "  white-space: nowrap;\n",
       "  overflow: hidden;\n",
       "  text-overflow: ellipsis;\n",
       "}\n",
       ".master-wrapper {\n",
       "  display: flex;\n",
       "  flex-flow: row nowrap;\n",
       "  justify-content: flex-start;\n",
       "  align-items: stretch;\n",
       "}\n",
       ".master-tbl {\n",
       "  flex: 3\n",
       "}\n",
       ".master-wrapper > div {\n",
       "  margin: 4px;\n",
       "  padding: 10px;\n",
       "}\n",
       "iframe.fileview {\n",
       "  border: 0 none;\n",
       "  height: 100%;\n",
       "  width: 100%;\n",
       "  white-space: pre-wrap;\n",
       "}\n",
       ".pane-header-title {\n",
       "  width: 80%;\n",
       "  font-weight: 500;\n",
       "}\n",
       ".pane-header {\n",
       "  line-height: 1;\n",
       "  background-color: #ffe6cc;\n",
       "  padding: 3px;\n",
       "}\n",
       ".pane-header .close {\n",
       "  font-size: 20px;\n",
       "  font-weight: 700;\n",
       "  float: right;\n",
       "  margin-top: -5px;\n",
       "}\n",
       ".master-wrapper .right-pane {\n",
       "  border: 1px inset silver;\n",
       "  width: 40%;\n",
       "  min-height: 300px;\n",
       "  flex: 3\n",
       "  min-width: 500px;\n",
       "}\n",
       ".master-wrapper * {\n",
       "  box-sizing: border-box;\n",
       "}\n",
       "</style><script>\n",
       "function copyToClipboard(fld) {\n",
       "    if (document.queryCommandSupported && document.queryCommandSupported('copy')) {\n",
       "        var textarea = document.createElement('textarea');\n",
       "        textarea.textContent = fld.innerHTML;\n",
       "        textarea.style.position = 'fixed';\n",
       "        document.body.appendChild(textarea);\n",
       "        textarea.select();\n",
       "\n",
       "        try {\n",
       "            return document.execCommand('copy'); // Security exception may be thrown by some browsers.\n",
       "        } catch (ex) {\n",
       "\n",
       "        } finally {\n",
       "            document.body.removeChild(textarea);\n",
       "        }\n",
       "    }\n",
       "}\n",
       "function expandPanel(el) {\n",
       "  const panelName = \"#\" + el.getAttribute('paneName');\n",
       "  console.log(el.title);\n",
       "\n",
       "  document.querySelector(panelName + \"-title\").innerHTML = el.title\n",
       "  iframe = document.querySelector(panelName + \"-body\");\n",
       "  \n",
       "  const tblcss = `<style> body { font-family: Arial, Helvetica, sans-serif;}\n",
       "    #csv { margin-bottom: 15px; }\n",
       "    #csv table { border-collapse: collapse;}\n",
       "    #csv table td { padding: 4px 8px; border: 1px solid silver;} </style>`;\n",
       "\n",
       "  function csvToHtmlTable(str) {\n",
       "    return '<div id=\"csv\"><table><tr><td>' +  str.replace(/[\\n\\r]+$/g, '').replace(/[\\n\\r]+/g, '</td></tr><tr><td>')\n",
       "      .replace(/,/g, '</td><td>') + '</td></tr></table></div>';\n",
       "  }\n",
       "  \n",
       "  function reqListener () {\n",
       "    if (el.title.endsWith(\".csv\")) {\n",
       "      iframe.setAttribute(\"srcdoc\", tblcss + csvToHtmlTable(this.responseText));\n",
       "    } else {\n",
       "      iframe.setAttribute(\"srcdoc\", this.responseText);\n",
       "    }  \n",
       "    console.log(this.responseText);\n",
       "  }\n",
       "\n",
       "  const oReq = new XMLHttpRequest();\n",
       "  oReq.addEventListener(\"load\", reqListener);\n",
       "  oReq.open(\"GET\", el.title);\n",
       "  oReq.send();\n",
       "  \n",
       "  \n",
       "  //iframe.src = el.title;\n",
       "  const resultPane = document.querySelector(panelName + \"-pane\");\n",
       "  if (resultPane.classList.contains(\"hidden\")) {\n",
       "    resultPane.classList.remove(\"hidden\");\n",
       "  }\n",
       "}\n",
       "function closePanel(el) {\n",
       "  const panelName = \"#\" + el.getAttribute('paneName')\n",
       "  const resultPane = document.querySelector(panelName + \"-pane\");\n",
       "  if (!resultPane.classList.contains(\"hidden\")) {\n",
       "    resultPane.classList.add(\"hidden\");\n",
       "  }\n",
       "}\n",
       "\n",
       "</script>\n",
       "<div class=\"master-wrapper\">\n",
       "  <div class=\"block master-tbl\"><div>\n",
       "<style scoped>\n",
       "    .dataframe tbody tr th:only-of-type {\n",
       "        vertical-align: middle;\n",
       "    }\n",
       "\n",
       "    .dataframe tbody tr th {\n",
       "        vertical-align: top;\n",
       "    }\n",
       "\n",
       "    .dataframe thead th {\n",
       "        text-align: right;\n",
       "    }\n",
       "</style>\n",
       "<table border=\"1\" class=\"dataframe\">\n",
       "  <thead>\n",
       "    <tr style=\"text-align: right;\">\n",
       "      <th>project</th>\n",
       "      <th>uid</th>\n",
       "      <th>iter</th>\n",
       "      <th>start</th>\n",
       "      <th>state</th>\n",
       "      <th>name</th>\n",
       "      <th>labels</th>\n",
       "      <th>inputs</th>\n",
       "      <th>parameters</th>\n",
       "      <th>results</th>\n",
       "      <th>artifacts</th>\n",
       "    </tr>\n",
       "  </thead>\n",
       "  <tbody>\n",
       "    <tr>\n",
       "      <td>network-operations</td>\n",
       "      <td><div title=\"24351772d2b44cb9b31f5c2e3b6a0e16\"><a href=\"https://mlrun-ui.default-tenant.app.dev6.lab.iguazeng.com/projects/network-operations/jobs/24351772d2b44cb9b31f5c2e3b6a0e16/info\" target=\"_blank\" >...3b6a0e16</a></div></td>\n",
       "      <td>0</td>\n",
       "      <td>May 24 08:08:40</td>\n",
       "      <td>completed</td>\n",
       "      <td>describe</td>\n",
       "      <td><div class=\"dictlist\">v3io_user=admin</div><div class=\"dictlist\">kind=job</div><div class=\"dictlist\">owner=admin</div><div class=\"dictlist\">host=describe-w7k5j</div></td>\n",
       "      <td><div title=\"store://network-operations/metrics\">table</div></td>\n",
       "      <td><div class=\"dictlist\">key=summary</div><div class=\"dictlist\">label_column=is_error</div><div class=\"dictlist\">class_labels=['0', '1']</div><div class=\"dictlist\">plot_hist=True</div><div class=\"dictlist\">plot_dest=plots-metrics</div></td>\n",
       "      <td><div class=\"dictlist\">scale_pos_weight=11.27</div></td>\n",
       "      <td><div class=\"artifact\" onclick=\"expandPanel(this)\" paneName=\"result6e890d12\" title=\"/files/demo-network-operations/artifacts/plots/hist.html\">histograms</div><div class=\"artifact\" onclick=\"expandPanel(this)\" paneName=\"result6e890d12\" title=\"/files/demo-network-operations/artifacts/plots/imbalance.html\">imbalance</div><div class=\"artifact\" onclick=\"expandPanel(this)\" paneName=\"result6e890d12\" title=\"/files/demo-network-operations/artifacts/plots/corr.html\">correlation</div></td>\n",
       "    </tr>\n",
       "  </tbody>\n",
       "</table>\n",
       "</div></div>\n",
       "  <div id=\"result6e890d12-pane\" class=\"right-pane block hidden\">\n",
       "    <div class=\"pane-header\">\n",
       "      <span id=\"result6e890d12-title\" class=\"pane-header-title\">Title</span>\n",
       "      <span onclick=\"closePanel(this)\" paneName=\"result6e890d12\" class=\"close clickable\">&times;</span>\n",
       "    </div>\n",
       "    <iframe class=\"fileview\" id=\"result6e890d12-body\"></iframe>\n",
       "  </div>\n",
       "</div>\n"
      ],
      "text/plain": [
       "<IPython.core.display.HTML object>"
      ]
     },
     "metadata": {},
     "output_type": "display_data"
    },
    {
     "name": "stdout",
     "output_type": "stream",
     "text": [
      "to track results use .show() or .logs() or in CLI: \n",
      "!mlrun get run 24351772d2b44cb9b31f5c2e3b6a0e16 --project network-operations , !mlrun logs 24351772d2b44cb9b31f5c2e3b6a0e16 --project network-operations\n",
      "[mlrun] 2020-05-24 08:09:11,275 run executed, status=completed\n"
     ]
    }
   ],
   "source": [
    "decsribe_run = newproj.func('describe').apply(mount_v3io()).run(describe_task)"
   ]
  },
  {
   "cell_type": "code",
   "execution_count": 14,
   "metadata": {},
   "outputs": [
    {
     "data": {
      "text/html": [
       "<div>\n",
       "<style scoped>\n",
       "    .dataframe tbody tr th:only-of-type {\n",
       "        vertical-align: middle;\n",
       "    }\n",
       "\n",
       "    .dataframe tbody tr th {\n",
       "        vertical-align: top;\n",
       "    }\n",
       "\n",
       "    .dataframe thead th {\n",
       "        text-align: right;\n",
       "    }\n",
       "</style>\n",
       "<table border=\"1\" class=\"dataframe\">\n",
       "  <thead>\n",
       "    <tr style=\"text-align: right;\">\n",
       "      <th></th>\n",
       "      <th></th>\n",
       "      <th></th>\n",
       "      <th></th>\n",
       "      <th>cpu_utilization</th>\n",
       "      <th>latency</th>\n",
       "      <th>packet_loss</th>\n",
       "      <th>throughput</th>\n",
       "      <th>is_error</th>\n",
       "    </tr>\n",
       "    <tr>\n",
       "      <th>timestamp</th>\n",
       "      <th>company</th>\n",
       "      <th>data_center</th>\n",
       "      <th>device</th>\n",
       "      <th></th>\n",
       "      <th></th>\n",
       "      <th></th>\n",
       "      <th></th>\n",
       "      <th></th>\n",
       "    </tr>\n",
       "  </thead>\n",
       "  <tbody>\n",
       "    <tr>\n",
       "      <th rowspan=\"5\" valign=\"top\">2020-05-20 10:16:35.920</th>\n",
       "      <th rowspan=\"4\" valign=\"top\">Wade-Roberts</th>\n",
       "      <th rowspan=\"2\" valign=\"top\">Randy_Keys</th>\n",
       "      <th>8919132955287</th>\n",
       "      <td>77.815499</td>\n",
       "      <td>4.456389</td>\n",
       "      <td>0.000000</td>\n",
       "      <td>243.271095</td>\n",
       "      <td>False</td>\n",
       "    </tr>\n",
       "    <tr>\n",
       "      <th>0710764644526</th>\n",
       "      <td>65.603641</td>\n",
       "      <td>0.000000</td>\n",
       "      <td>0.631231</td>\n",
       "      <td>277.539436</td>\n",
       "      <td>False</td>\n",
       "    </tr>\n",
       "    <tr>\n",
       "      <th rowspan=\"2\" valign=\"top\">Walters_Stream</th>\n",
       "      <th>6020184338581</th>\n",
       "      <td>76.170562</td>\n",
       "      <td>1.916736</td>\n",
       "      <td>0.000000</td>\n",
       "      <td>246.517323</td>\n",
       "      <td>False</td>\n",
       "    </tr>\n",
       "    <tr>\n",
       "      <th>0413547681017</th>\n",
       "      <td>87.475039</td>\n",
       "      <td>5.261735</td>\n",
       "      <td>0.000000</td>\n",
       "      <td>287.652382</td>\n",
       "      <td>False</td>\n",
       "    </tr>\n",
       "    <tr>\n",
       "      <th>Fernandez__Santana_and_Maddox</th>\n",
       "      <th>Miguel_Harbors</th>\n",
       "      <th>1999552611743</th>\n",
       "      <td>74.220483</td>\n",
       "      <td>0.000000</td>\n",
       "      <td>0.580491</td>\n",
       "      <td>250.257507</td>\n",
       "      <td>False</td>\n",
       "    </tr>\n",
       "    <tr>\n",
       "      <th>...</th>\n",
       "      <th>...</th>\n",
       "      <th>...</th>\n",
       "      <th>...</th>\n",
       "      <td>...</td>\n",
       "      <td>...</td>\n",
       "      <td>...</td>\n",
       "      <td>...</td>\n",
       "      <td>...</td>\n",
       "    </tr>\n",
       "    <tr>\n",
       "      <th rowspan=\"5\" valign=\"top\">2020-05-20 11:16:35.920</th>\n",
       "      <th>Wade-Roberts</th>\n",
       "      <th>Walters_Stream</th>\n",
       "      <th>0413547681017</th>\n",
       "      <td>87.559992</td>\n",
       "      <td>0.000000</td>\n",
       "      <td>1.170780</td>\n",
       "      <td>233.372520</td>\n",
       "      <td>False</td>\n",
       "    </tr>\n",
       "    <tr>\n",
       "      <th rowspan=\"4\" valign=\"top\">Fernandez__Santana_and_Maddox</th>\n",
       "      <th rowspan=\"2\" valign=\"top\">Miguel_Harbors</th>\n",
       "      <th>1999552611743</th>\n",
       "      <td>72.517446</td>\n",
       "      <td>7.954549</td>\n",
       "      <td>0.000000</td>\n",
       "      <td>271.094488</td>\n",
       "      <td>False</td>\n",
       "    </tr>\n",
       "    <tr>\n",
       "      <th>1574258149595</th>\n",
       "      <td>66.221307</td>\n",
       "      <td>3.390972</td>\n",
       "      <td>1.589218</td>\n",
       "      <td>240.394251</td>\n",
       "      <td>False</td>\n",
       "    </tr>\n",
       "    <tr>\n",
       "      <th rowspan=\"2\" valign=\"top\">Gomez_Path</th>\n",
       "      <th>0319937899106</th>\n",
       "      <td>92.502891</td>\n",
       "      <td>4.810873</td>\n",
       "      <td>0.157370</td>\n",
       "      <td>224.640897</td>\n",
       "      <td>False</td>\n",
       "    </tr>\n",
       "    <tr>\n",
       "      <th>6294915186428</th>\n",
       "      <td>100.000000</td>\n",
       "      <td>100.000000</td>\n",
       "      <td>50.000000</td>\n",
       "      <td>0.000000</td>\n",
       "      <td>True</td>\n",
       "    </tr>\n",
       "  </tbody>\n",
       "</table>\n",
       "<p>5768 rows × 5 columns</p>\n",
       "</div>"
      ],
      "text/plain": [
       "                                                                                    cpu_utilization  \\\n",
       "timestamp               company                       data_center    device                           \n",
       "2020-05-20 10:16:35.920 Wade-Roberts                  Randy_Keys     8919132955287        77.815499   \n",
       "                                                                     0710764644526        65.603641   \n",
       "                                                      Walters_Stream 6020184338581        76.170562   \n",
       "                                                                     0413547681017        87.475039   \n",
       "                        Fernandez__Santana_and_Maddox Miguel_Harbors 1999552611743        74.220483   \n",
       "...                                                                                             ...   \n",
       "2020-05-20 11:16:35.920 Wade-Roberts                  Walters_Stream 0413547681017        87.559992   \n",
       "                        Fernandez__Santana_and_Maddox Miguel_Harbors 1999552611743        72.517446   \n",
       "                                                                     1574258149595        66.221307   \n",
       "                                                      Gomez_Path     0319937899106        92.502891   \n",
       "                                                                     6294915186428       100.000000   \n",
       "\n",
       "                                                                                       latency  \\\n",
       "timestamp               company                       data_center    device                      \n",
       "2020-05-20 10:16:35.920 Wade-Roberts                  Randy_Keys     8919132955287    4.456389   \n",
       "                                                                     0710764644526    0.000000   \n",
       "                                                      Walters_Stream 6020184338581    1.916736   \n",
       "                                                                     0413547681017    5.261735   \n",
       "                        Fernandez__Santana_and_Maddox Miguel_Harbors 1999552611743    0.000000   \n",
       "...                                                                                        ...   \n",
       "2020-05-20 11:16:35.920 Wade-Roberts                  Walters_Stream 0413547681017    0.000000   \n",
       "                        Fernandez__Santana_and_Maddox Miguel_Harbors 1999552611743    7.954549   \n",
       "                                                                     1574258149595    3.390972   \n",
       "                                                      Gomez_Path     0319937899106    4.810873   \n",
       "                                                                     6294915186428  100.000000   \n",
       "\n",
       "                                                                                    packet_loss  \\\n",
       "timestamp               company                       data_center    device                       \n",
       "2020-05-20 10:16:35.920 Wade-Roberts                  Randy_Keys     8919132955287     0.000000   \n",
       "                                                                     0710764644526     0.631231   \n",
       "                                                      Walters_Stream 6020184338581     0.000000   \n",
       "                                                                     0413547681017     0.000000   \n",
       "                        Fernandez__Santana_and_Maddox Miguel_Harbors 1999552611743     0.580491   \n",
       "...                                                                                         ...   \n",
       "2020-05-20 11:16:35.920 Wade-Roberts                  Walters_Stream 0413547681017     1.170780   \n",
       "                        Fernandez__Santana_and_Maddox Miguel_Harbors 1999552611743     0.000000   \n",
       "                                                                     1574258149595     1.589218   \n",
       "                                                      Gomez_Path     0319937899106     0.157370   \n",
       "                                                                     6294915186428    50.000000   \n",
       "\n",
       "                                                                                    throughput  \\\n",
       "timestamp               company                       data_center    device                      \n",
       "2020-05-20 10:16:35.920 Wade-Roberts                  Randy_Keys     8919132955287  243.271095   \n",
       "                                                                     0710764644526  277.539436   \n",
       "                                                      Walters_Stream 6020184338581  246.517323   \n",
       "                                                                     0413547681017  287.652382   \n",
       "                        Fernandez__Santana_and_Maddox Miguel_Harbors 1999552611743  250.257507   \n",
       "...                                                                                        ...   \n",
       "2020-05-20 11:16:35.920 Wade-Roberts                  Walters_Stream 0413547681017  233.372520   \n",
       "                        Fernandez__Santana_and_Maddox Miguel_Harbors 1999552611743  271.094488   \n",
       "                                                                     1574258149595  240.394251   \n",
       "                                                      Gomez_Path     0319937899106  224.640897   \n",
       "                                                                     6294915186428    0.000000   \n",
       "\n",
       "                                                                                    is_error  \n",
       "timestamp               company                       data_center    device                   \n",
       "2020-05-20 10:16:35.920 Wade-Roberts                  Randy_Keys     8919132955287     False  \n",
       "                                                                     0710764644526     False  \n",
       "                                                      Walters_Stream 6020184338581     False  \n",
       "                                                                     0413547681017     False  \n",
       "                        Fernandez__Santana_and_Maddox Miguel_Harbors 1999552611743     False  \n",
       "...                                                                                      ...  \n",
       "2020-05-20 11:16:35.920 Wade-Roberts                  Walters_Stream 0413547681017     False  \n",
       "                        Fernandez__Santana_and_Maddox Miguel_Harbors 1999552611743     False  \n",
       "                                                                     1574258149595     False  \n",
       "                                                      Gomez_Path     0319937899106     False  \n",
       "                                                                     6294915186428      True  \n",
       "\n",
       "[5768 rows x 5 columns]"
      ]
     },
     "execution_count": 14,
     "metadata": {},
     "output_type": "execute_result"
    }
   ],
   "source": [
    "pd.read_parquet('data/metrics.pq')"
   ]
  },
  {
   "cell_type": "markdown",
   "metadata": {},
   "source": [
    "### Create the feature vector"
   ]
  },
  {
   "cell_type": "markdown",
   "metadata": {},
   "source": [
    "We will use our [Aggregate](https://github.com/mlrun/functions/blob/master/aggregate/aggregate.ipynb) function to create rolling window features for our feature vector.\n",
    "\n",
    "In doing so we hope that we could help our algorithms identify local errors by using a windowed trend"
   ]
  },
  {
   "cell_type": "code",
   "execution_count": 17,
   "metadata": {},
   "outputs": [],
   "source": [
    "# Define aggregate task\n",
    "aggregate_task = NewTask(\n",
    "    name='aggregate',\n",
    "    params={'metrics': ['cpu_utilization', 'throughput', 'packet_loss', 'latency'],\n",
    "            'metric_aggs': ['mean', 'sum', 'std', 'var', 'min', 'max', 'median'],\n",
    "            'suffix': 'daily',\n",
    "            'append_to_df': True,\n",
    "            'window': 20,\n",
    "            'center': False,\n",
    "            'save_to': os.path.join('data', 'aggregate.pq'),\n",
    "            'drop_na': True},\n",
    "    inputs={'df_artifact': '/User/demo-network-operations/data/metrics.pq'},\n",
    "    handler='aggregate')"
   ]
  },
  {
   "cell_type": "code",
   "execution_count": null,
   "metadata": {},
   "outputs": [],
   "source": [
    "aggregate_run = newproj.func('aggregate').apply(mount_v3io()).run(aggregate_task)"
   ]
  },
  {
   "cell_type": "markdown",
   "metadata": {},
   "source": [
    "### Get statistics about the feature vector"
   ]
  },
  {
   "cell_type": "code",
   "execution_count": 84,
   "metadata": {},
   "outputs": [],
   "source": [
    "aggregate_describe_task = NewTask(\n",
    "    name=\"describe-aggregate\", \n",
    "    handler=\"summarize\",  \n",
    "    params={\"key\": \"summary\", \n",
    "            \"label_column\": label_column, \n",
    "            'class_labels': ['0', '1'],\n",
    "            'plot_hist': True,\n",
    "            'plot_dest': 'plots-aggregate',\n",
    "            'sample': 0.3},\n",
    "    inputs={\"table\": aggregate_run.outputs['aggregate']},\n",
    "    artifact_path=ARTIFACT_PATH)"
   ]
  },
  {
   "cell_type": "code",
   "execution_count": null,
   "metadata": {},
   "outputs": [],
   "source": [
    "aggregate_decsribe_run = newproj.func('describe').apply(mount_v3io()).run(aggregate_describe_task)"
   ]
  },
  {
   "cell_type": "code",
   "execution_count": 31,
   "metadata": {},
   "outputs": [
    {
     "data": {
      "text/plain": [
       "'v3io-webapi.default-tenant.svc:8081'"
      ]
     },
     "execution_count": 31,
     "metadata": {},
     "output_type": "execute_result"
    }
   ],
   "source": [
    "%env V3IO_API"
   ]
  },
  {
   "cell_type": "code",
   "execution_count": 56,
   "metadata": {},
   "outputs": [],
   "source": [
    "df = pd.read_parquet('artifacts/data/aggregate.pq')"
   ]
  },
  {
   "cell_type": "markdown",
   "metadata": {},
   "source": [
    "## Create workflow to train the model\n",
    "After reviewing the data and creating the feature vector we move to training our model.  \n",
    "For this task we will use an **LGBM** classifier.  To control the training process we will supply a `model_config` dictionary with the following parameters:\n",
    "- **CLASS**: Model-specific parameters.\n",
    "- **FIT**: Training parameters (like epoch when needed)\n",
    "- **META**: Model and Package version"
   ]
  },
  {
   "cell_type": "markdown",
   "metadata": {},
   "source": [
    "### Setup model configurations"
   ]
  },
  {
   "cell_type": "code",
   "execution_count": 7,
   "metadata": {},
   "outputs": [],
   "source": [
    "model_configs = {\n",
    "    \"CLASS\" : {\n",
    "        \"boosting_type\"      : \"gbdt\",\n",
    "        \"num_leaves\"         : 300,\n",
    "        \"max_depth\"          : 50,\n",
    "        \"learning_rate\"      : 0.1,\n",
    "        \"n_estimators\"       : 300,\n",
    "        \"objective\"          : \"binary\",\n",
    "        \"scale_pos_weight\"   : 1,    \n",
    "        \"min_split_gain\"     : 0.0,\n",
    "        \"min_child_samples\"  : 20,\n",
    "        \"subsample\"          : 1,\n",
    "        \"colsample_bytree\"   : 1,\n",
    "        \"reg_alpha\"          : 0,\n",
    "        \"reg_lambda\"         : 1,\n",
    "        \"n_jobs\"             : 16,\n",
    "        \"silent\"             : True,\n",
    "        \"importance_type\"    : \"split\",\n",
    "        \"random_state\"       : 1},\n",
    "    \"FIT\" : {\n",
    "        \"verbose\"               : False\n",
    "    },\n",
    "    \"META\" : {\n",
    "        \"class\" : \"lightgbm.sklearn.LGBMClassifier\",\n",
    "        \"version\" : \"2.3.1\"\n",
    "    }\n",
    "}\n",
    "model_config_path = os.path.join(os.path.abspath(newproj.context), 'data', 'lgb_model.json')\n",
    "with open(model_config_path, 'w') as f:\n",
    "          f.write(json.dumps(model_configs))"
   ]
  },
  {
   "cell_type": "code",
   "execution_count": 8,
   "metadata": {},
   "outputs": [
    {
     "name": "stdout",
     "output_type": "stream",
     "text": [
      "[mlrun] 2020-05-20 16:25:09,186 log artifact lgb_configs at /User/demo-network-operations/data/lgb_model.json, size: None, db: Y\n"
     ]
    }
   ],
   "source": [
    "newproj.log_artifact('lgb_configs',\n",
    "                     target_path = os.path.abspath(model_config_path))"
   ]
  },
  {
   "cell_type": "markdown",
   "metadata": {},
   "source": [
    "### Create Pipeline Workflow"
   ]
  },
  {
   "cell_type": "code",
   "execution_count": 57,
   "metadata": {},
   "outputs": [
    {
     "name": "stdout",
     "output_type": "stream",
     "text": [
      "Overwriting src/workflow.py\n"
     ]
    }
   ],
   "source": [
    "%%writefile src/workflow.py\n",
    "from kfp import dsl\n",
    "from mlrun import mount_v3io, mlconf\n",
    "import os\n",
    "from nuclio.triggers import V3IOStreamTrigger\n",
    "\n",
    "funcs = {}\n",
    "projdir = os.getcwd()\n",
    "label_column = 'is_error'\n",
    "model_inference_stream = '/bigdata/network-operations/inference_stream'\n",
    "model_inference_url = f'http://v3io-webapi:8081{model_inference_stream}'\n",
    "\n",
    "\n",
    "def init_functions(functions: dict, project=None, secrets=None):\n",
    "    for f in functions.values():\n",
    "        # Add V3IO Mount\n",
    "        f.apply(mount_v3io())\n",
    "        \n",
    "        # Always pull images to keep updates\n",
    "        f.spec.image_pull_policy = 'Always'\n",
    "        \n",
    "    functions['serving'].metadata.name = 'netops-server'\n",
    "    functions['serving'].spec.min_replicas = 1\n",
    "    functions['serving'].spec.build.baseImage = 'mlrun/mlrun:0.4.7'\n",
    "    \n",
    "    # Define inference-stream related triggers\n",
    "    functions['serving'].set_envs({'INFERENCE_STREAM': model_inference_stream})\n",
    "    functions['s2p'].add_trigger('labeled_stream', V3IOStreamTrigger(url=f'{model_inference_url}@s2p'))\n",
    "    functions['s2p'].set_envs({'window': 10,\n",
    "                               'features': 'cpu_utilization',\n",
    "                               'save_to': '/bigdata/inference_pq/',\n",
    "                               'base_dataset': 'store://network-operations/test_test_set_preds',\n",
    "                               'hub_url': '/User/functions/{name}/function.yaml',\n",
    "                               'mount_path': '/bigdata',\n",
    "                               'mount_remote': '/bigdata'})\n",
    "                \n",
    "        \n",
    "@dsl.pipeline(\n",
    "    name='Network Operations Demo',\n",
    "    description='Train a Failure Prediction LGBM Model over sensor data'\n",
    ")\n",
    "def kfpipeline(\n",
    "        df_artifact = 'store://network-operations/metrics',\n",
    "        metrics = ['cpu_utilization', 'throughput', 'packet_loss', 'latency'],\n",
    "        metric_aggs = ['mean', 'sum', 'std', 'var', 'min', 'max', 'median'],\n",
    "        suffix = 'daily',\n",
    "        window = 20,\n",
    "        describe_table = 'netops',\n",
    "        describe_sample = 0.3,\n",
    "        label_column = label_column,\n",
    "        class_labels = [1, 0],\n",
    "        SAMPLE_SIZE      = -1, # -n for random sample of n obs, -1 for entire dataset, +n for n consecutive rows\n",
    "        TEST_SIZE        = 0.1,       # 10% set aside\n",
    "        TRAIN_VAL_SPLIT  = 0.75,      # remainder split into train and val\n",
    "    ):\n",
    "    \n",
    "    describe = funcs['describe'].as_step(name='describe-raw-data',\n",
    "                                                handler=\"summarize\",  \n",
    "                                                params={\"key\": f\"{describe_table}_raw\", \n",
    "                                                        \"label_column\": label_column, \n",
    "                                                        'class_labels': ['0', '1'],\n",
    "                                                        'plot_hist': True,\n",
    "                                                        'plot_dest': 'plots/raw',\n",
    "                                                        'sample': describe_sample},\n",
    "                                                inputs={\"table\": df_artifact},\n",
    "                                                outputs=[\"summary\", \"scale_pos_weight\"])\n",
    "    \n",
    "    # Run preprocessing on the data\n",
    "    aggregate = funcs['aggregate'].as_step(name='aggregate',\n",
    "                                                  params={'metrics': metrics,\n",
    "                                                          'metric_aggs': metric_aggs,\n",
    "                                                          'suffix': suffix,\n",
    "                                                          },\n",
    "                                                  inputs={'df_artifact': df_artifact},\n",
    "                                                  outputs=['aggregate'],\n",
    "                                                  handler='aggregate',\n",
    "                                                  image='mlrun/ml-models:0.4.7')\n",
    "\n",
    "    describe = funcs['describe'].as_step(name='describe-aggregation',\n",
    "                                                handler=\"summarize\",  \n",
    "                                                params={\"key\": f\"{describe_table}_aggregate\", \n",
    "                                                        \"label_column\": label_column, \n",
    "                                                        'class_labels': class_labels,\n",
    "                                                        'plot_hist': True,\n",
    "                                                        'plot_dest': 'plots/aggregation',\n",
    "                                                        'sample': describe_sample},\n",
    "                                                inputs={\"table\": aggregate.outputs['aggregate']},\n",
    "                                                outputs=[\"summary\", \"scale_pos_weight\"])\n",
    "    \n",
    "    feature_selection = funcs['feature_selection'].as_step(name='feature_selection',\n",
    "                                                           handler='feature_selection',\n",
    "                                                           params={'k': 5,\n",
    "                                                                   'min_votes': 3,\n",
    "                                                                   'label_column': label_column},\n",
    "                                                           inputs={'df_artifact': aggregate.outputs['aggregate']},\n",
    "                                                           outputs=['feature_scores', \n",
    "                                                                    'max_scaled_scores_feature_scores'\n",
    "                                                                    'selected_features_count', \n",
    "                                                                    'selected_features'],\n",
    "                                                           image='mlrun/ml-models:0.4.7')\n",
    "    \n",
    "    describe = funcs['describe'].as_step(name='describe-feature-vector',\n",
    "                                            handler=\"summarize\",  \n",
    "                                            params={\"key\": f'{describe_table}_features', \n",
    "                                                    \"label_column\": label_column, \n",
    "                                                    'class_labels': class_labels,\n",
    "                                                    'plot_hist': True,\n",
    "                                                    'plot_dest': 'plots/feature_vector'},\n",
    "                                            inputs={\"table\": feature_selection.outputs['selected_features']},\n",
    "                                            outputs=[\"summary\", \"scale_pos_weight\"])\n",
    "    \n",
    "    train = funcs['train'].as_step(name='train',\n",
    "                                   params={\"sample\"          : SAMPLE_SIZE, \n",
    "                                           \"label_column\"    : label_column,\n",
    "                                           \"test_size\"       : TEST_SIZE},\n",
    "                                   inputs={\"dataset\"         : feature_selection.outputs['selected_features']},\n",
    "                                   hyperparams={'model_pkg_class': [\"sklearn.ensemble.RandomForestClassifier\", \n",
    "                                                                    \"sklearn.linear_model.LogisticRegression\",\n",
    "                                                                    \"sklearn.ensemble.AdaBoostClassifier\"]},\n",
    "                                   selector='max.accuracy',\n",
    "                                   outputs=['model', 'test_set'],\n",
    "                                   image='mlrun/ml-models:0.4.7')\n",
    "    \n",
    "    test = funcs['test'].as_step(name='test',\n",
    "                                 handler='test_classifier',\n",
    "                                 params={'label_column': label_column},\n",
    "                                 inputs={'models_path': train.outputs['model'],\n",
    "                                         'test_set': train.outputs['test_set']},\n",
    "                                 image='mlrun/ml-models:0.4.7')\n",
    "    \n",
    "    # deploy the model using nuclio functions\n",
    "    deploy = funcs['serving'].deploy_step(models={'predictor': train.outputs['model']}, tag='v1')\n",
    "    \n",
    "    # test out new model server (via REST API calls)\n",
    "    tester = funcs[\"model_server-tester\"].as_step(name='model-tester',\n",
    "                                                  params={'addr': deploy.outputs['endpoint'], \n",
    "                                                          'model': \"predictor\",\n",
    "                                                          'label_column': label_column},\n",
    "                                                  inputs={'table': train.outputs['test_set']})\n",
    "    \n",
    "    # Streaming demo functions\n",
    "#     preprocessor = funcs['preprocessor'].deploy_step(name='preprocessor').after(deploy)\n",
    "    \n",
    "    generator = funcs['generator'].deploy_step(name='generator').after(preprocessor)\n",
    "    \n",
    "    concept_drift = funcs['concept_drift'].as_step(name='concept_drift_deployer',\n",
    "                                                   params={'models': ['ddm', 'eddm', 'pagehinkley'],\n",
    "                                                           'label_col': 'is_error',\n",
    "                                                           'prediction_col': 'prediction',\n",
    "                                                           'hub_url': '/User/functions/{name}/function.yaml',\n",
    "                                                           'output_tsdb': '/bigdata/network-operations/drift_tsdb',\n",
    "                                                           'input_stream': 'http://v3io-webapi:8081/bigdata/network-operations/inference_stream@cd2',\n",
    "                                                           'output_stream': '/bigdata/network-operations/drift_stream'},\n",
    "                                                   inputs={'base_dataset': 'store://network-operations/test_test_set_preds'},\n",
    "                                                   artifact_path=mlconf.artifact_path,\n",
    "                                                   image='mlrun/ml-models:0.4.7').after(deploy)\n",
    "    \n",
    "    s2p = funcs['s2p'].deploy_step(project='network-operations').after(deploy)\n",
    "    "
   ]
  },
  {
   "cell_type": "markdown",
   "metadata": {},
   "source": [
    "## Add workflow"
   ]
  },
  {
   "cell_type": "code",
   "execution_count": 58,
   "metadata": {},
   "outputs": [],
   "source": [
    "newproj.set_workflow('main', os.path.join(os.path.abspath(newproj.context), 'src', 'workflow.py'))"
   ]
  },
  {
   "cell_type": "markdown",
   "metadata": {},
   "source": [
    "## Save Project"
   ]
  },
  {
   "cell_type": "code",
   "execution_count": 59,
   "metadata": {},
   "outputs": [],
   "source": [
    "newproj.save(os.path.join(newproj.context, 'project.yaml'))"
   ]
  },
  {
   "cell_type": "markdown",
   "metadata": {},
   "source": [
    "### Run workflow"
   ]
  },
  {
   "cell_type": "code",
   "execution_count": 60,
   "metadata": {},
   "outputs": [
    {
     "name": "stdout",
     "output_type": "stream",
     "text": [
      "[mlrun] 2020-06-02 17:08:16,723 WARNING!, you seem to have uncommitted git changes, use .push()\n"
     ]
    },
    {
     "name": "stderr",
     "output_type": "stream",
     "text": [
      "/conda/lib/python3.6/site-packages/kfp/components/_data_passing.py:168: UserWarning: Missing type name was inferred as \"JsonArray\" based on the value \"['cpu_utilization', 'throughput', 'packet_loss', 'latency']\".\n",
      "  warnings.warn('Missing type name was inferred as \"{}\" based on the value \"{}\".'.format(type_name, str(value)))\n",
      "/conda/lib/python3.6/site-packages/kfp/components/_data_passing.py:168: UserWarning: Missing type name was inferred as \"JsonArray\" based on the value \"['mean', 'sum', 'std', 'var', 'min', 'max', 'median']\".\n",
      "  warnings.warn('Missing type name was inferred as \"{}\" based on the value \"{}\".'.format(type_name, str(value)))\n",
      "/conda/lib/python3.6/site-packages/kfp/components/_data_passing.py:168: UserWarning: Missing type name was inferred as \"Integer\" based on the value \"20\".\n",
      "  warnings.warn('Missing type name was inferred as \"{}\" based on the value \"{}\".'.format(type_name, str(value)))\n",
      "/conda/lib/python3.6/site-packages/kfp/components/_data_passing.py:168: UserWarning: Missing type name was inferred as \"Float\" based on the value \"0.3\".\n",
      "  warnings.warn('Missing type name was inferred as \"{}\" based on the value \"{}\".'.format(type_name, str(value)))\n",
      "/conda/lib/python3.6/site-packages/kfp/components/_data_passing.py:168: UserWarning: Missing type name was inferred as \"JsonArray\" based on the value \"[1, 0]\".\n",
      "  warnings.warn('Missing type name was inferred as \"{}\" based on the value \"{}\".'.format(type_name, str(value)))\n",
      "/conda/lib/python3.6/site-packages/kfp/components/_data_passing.py:168: UserWarning: Missing type name was inferred as \"Integer\" based on the value \"-1\".\n",
      "  warnings.warn('Missing type name was inferred as \"{}\" based on the value \"{}\".'.format(type_name, str(value)))\n",
      "/conda/lib/python3.6/site-packages/kfp/components/_data_passing.py:168: UserWarning: Missing type name was inferred as \"Float\" based on the value \"0.1\".\n",
      "  warnings.warn('Missing type name was inferred as \"{}\" based on the value \"{}\".'.format(type_name, str(value)))\n",
      "/conda/lib/python3.6/site-packages/kfp/components/_data_passing.py:168: UserWarning: Missing type name was inferred as \"Float\" based on the value \"0.75\".\n",
      "  warnings.warn('Missing type name was inferred as \"{}\" based on the value \"{}\".'.format(type_name, str(value)))\n"
     ]
    },
    {
     "data": {
      "text/html": [
       "Experiment link <a href=\"https://dashboard.default-tenant.app.dev6.lab.iguazeng.com/pipelines/#/experiments/details/841c55cf-1aff-4187-8928-10ca08ef5df4\" target=\"_blank\" >here</a>"
      ],
      "text/plain": [
       "<IPython.core.display.HTML object>"
      ]
     },
     "metadata": {},
     "output_type": "display_data"
    },
    {
     "data": {
      "text/html": [
       "Run link <a href=\"https://dashboard.default-tenant.app.dev6.lab.iguazeng.com/pipelines/#/runs/details/2d2180b4-d609-4485-a985-cb7ec0c514f1\" target=\"_blank\" >here</a>"
      ],
      "text/plain": [
       "<IPython.core.display.HTML object>"
      ]
     },
     "metadata": {},
     "output_type": "display_data"
    },
    {
     "name": "stdout",
     "output_type": "stream",
     "text": [
      "[mlrun] 2020-06-02 17:08:21,223 Pipeline run id=2d2180b4-d609-4485-a985-cb7ec0c514f1, check UI or DB for progress\n"
     ]
    },
    {
     "data": {
      "text/plain": [
       "'2d2180b4-d609-4485-a985-cb7ec0c514f1'"
      ]
     },
     "execution_count": 60,
     "metadata": {},
     "output_type": "execute_result"
    }
   ],
   "source": [
    "newproj.run('main', artifact_path=ARTIFACT_PATH, dirty=True)"
   ]
  },
  {
   "cell_type": "markdown",
   "metadata": {},
   "source": [
    "## Test endpoint"
   ]
  },
  {
   "cell_type": "code",
   "execution_count": 21,
   "metadata": {},
   "outputs": [],
   "source": [
    "import pandas as pd\n",
    "import requests\n",
    "import json"
   ]
  },
  {
   "cell_type": "code",
   "execution_count": 22,
   "metadata": {},
   "outputs": [],
   "source": [
    "# Set model\n",
    "model_name = 'predictor'\n",
    "\n",
    "# Load pre-processed data example\n",
    "df = pd.read_parquet(os.path.join(os.path.abspath(newproj.context), 'artifacts', 'data', 'aggregate.pq'))\n",
    "\n",
    "# Set sample\n",
    "sample = df.head(1).fillna(0).drop(columns=['is_error']).values.tolist()\n",
    "msg = {'instances': sample}\n",
    "\n",
    "# Set endpoint\n",
    "addr = 'http://192.168.224.209:32666'"
   ]
  },
  {
   "cell_type": "code",
   "execution_count": 23,
   "metadata": {},
   "outputs": [
    {
     "data": {
      "text/plain": [
       "{'_content': b'[false]',\n",
       " '_content_consumed': True,\n",
       " '_next': None,\n",
       " 'status_code': 200,\n",
       " 'headers': {'Server': 'nuclio', 'Date': 'Sun, 05 Apr 2020 14:33:42 GMT', 'Content-Type': 'application/json', 'Content-Length': '7'},\n",
       " 'raw': <urllib3.response.HTTPResponse at 0x7f57e5460630>,\n",
       " 'url': 'http://192.168.224.209:32666/predictor/predict',\n",
       " 'encoding': None,\n",
       " 'history': [],\n",
       " 'reason': 'OK',\n",
       " 'cookies': <RequestsCookieJar[]>,\n",
       " 'elapsed': datetime.timedelta(0, 0, 54624),\n",
       " 'request': <PreparedRequest [POST]>,\n",
       " 'connection': <requests.adapters.HTTPAdapter at 0x7f57ec406f60>}"
      ]
     },
     "execution_count": 23,
     "metadata": {},
     "output_type": "execute_result"
    }
   ],
   "source": [
    "# Send Request\n",
    "req = requests.post(f'{addr}/{model_name}/predict', data=json.dumps(msg))\n",
    "req.__dict__"
   ]
  },
  {
   "cell_type": "code",
   "execution_count": null,
   "metadata": {},
   "outputs": [],
   "source": []
  }
 ],
 "metadata": {
  "kernelspec": {
   "display_name": "Python 3",
   "language": "python",
   "name": "python3"
  },
  "language_info": {
   "codemirror_mode": {
    "name": "ipython",
    "version": 3
   },
   "file_extension": ".py",
   "mimetype": "text/x-python",
   "name": "python",
   "nbconvert_exporter": "python",
   "pygments_lexer": "ipython3",
   "version": "3.6.8"
  }
 },
 "nbformat": 4,
 "nbformat_minor": 4
}
